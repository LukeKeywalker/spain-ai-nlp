{
 "cells": [
  {
   "cell_type": "code",
   "execution_count": 10,
   "metadata": {},
   "outputs": [
    {
     "data": {
      "text/html": [
       "<div>\n",
       "<style scoped>\n",
       "    .dataframe tbody tr th:only-of-type {\n",
       "        vertical-align: middle;\n",
       "    }\n",
       "\n",
       "    .dataframe tbody tr th {\n",
       "        vertical-align: top;\n",
       "    }\n",
       "\n",
       "    .dataframe thead th {\n",
       "        text-align: right;\n",
       "    }\n",
       "</style>\n",
       "<table border=\"1\" class=\"dataframe\">\n",
       "  <thead>\n",
       "    <tr style=\"text-align: right;\">\n",
       "      <th></th>\n",
       "      <th>name</th>\n",
       "    </tr>\n",
       "  </thead>\n",
       "  <tbody>\n",
       "    <tr>\n",
       "      <th>0</th>\n",
       "      <td>KNIT DRESS, LACE DRESS, KNIT DRESS WITH LACE, ...</td>\n",
       "    </tr>\n",
       "    <tr>\n",
       "      <th>1</th>\n",
       "      <td>LOOSE-FITTING DRESS WITH DETAILS, OVERSHIRT WI...</td>\n",
       "    </tr>\n",
       "    <tr>\n",
       "      <th>2</th>\n",
       "      <td>NAUTICAL CAP, ITEM RETURNED, THIS ITEM MUST BE...</td>\n",
       "    </tr>\n",
       "    <tr>\n",
       "      <th>3</th>\n",
       "      <td>NAUTICAL CAP, NAUTICAL CAP WITH PEAK, KNOTTED ...</td>\n",
       "    </tr>\n",
       "    <tr>\n",
       "      <th>4</th>\n",
       "      <td>NAUTICAL CAP, THIS ITEM MUST BE RETURNED, SIDE...</td>\n",
       "    </tr>\n",
       "  </tbody>\n",
       "</table>\n",
       "</div>"
      ],
      "text/plain": [
       "                                                name\n",
       "0  KNIT DRESS, LACE DRESS, KNIT DRESS WITH LACE, ...\n",
       "1  LOOSE-FITTING DRESS WITH DETAILS, OVERSHIRT WI...\n",
       "2  NAUTICAL CAP, ITEM RETURNED, THIS ITEM MUST BE...\n",
       "3  NAUTICAL CAP, NAUTICAL CAP WITH PEAK, KNOTTED ...\n",
       "4  NAUTICAL CAP, THIS ITEM MUST BE RETURNED, SIDE..."
      ]
     },
     "execution_count": 10,
     "metadata": {},
     "output_type": "execute_result"
    }
   ],
   "source": [
    "import pandas as pd\n",
    "df = pd.read_csv('../submission/submission.csv', sep='\\n')\n",
    "df.head()"
   ]
  },
  {
   "cell_type": "code",
   "execution_count": 11,
   "metadata": {},
   "outputs": [
    {
     "name": "stdout",
     "output_type": "stream",
     "text": [
      "<class 'pandas.core.frame.DataFrame'>\n",
      "RangeIndex: 10 entries, 0 to 9\n",
      "Data columns (total 1 columns):\n",
      " #   Column  Non-Null Count  Dtype \n",
      "---  ------  --------------  ----- \n",
      " 0   name    10 non-null     object\n",
      "dtypes: object(1)\n",
      "memory usage: 208.0+ bytes\n"
     ]
    }
   ],
   "source": [
    "df.info()"
   ]
  },
  {
   "cell_type": "code",
   "execution_count": 14,
   "metadata": {},
   "outputs": [
    {
     "data": {
      "text/plain": [
       "10"
      ]
     },
     "execution_count": 14,
     "metadata": {},
     "output_type": "execute_result"
    }
   ],
   "source": [
    "len(df['name'])"
   ]
  },
  {
   "cell_type": "code",
   "execution_count": 35,
   "metadata": {},
   "outputs": [],
   "source": [
    "import sys  \n",
    "sys.path.insert(0, 'C:\\\\Users\\\\ARosa\\\\Documents\\\\spain-ai-nlp')\n",
    "\n",
    "from sorting_utils import *"
   ]
  },
  {
   "cell_type": "code",
   "execution_count": 60,
   "metadata": {},
   "outputs": [],
   "source": [
    "def new_sorted_list(row):\n",
    "    scores = []\n",
    "    row_list = row.split(\",\")\n",
    "    for r in row_list:\n",
    "        # compute the score\n",
    "        s = length_wc_scoring(r.strip())\n",
    "        #print(\"answer{} and score{}\".format(r,s))\n",
    "        scores.append(s)\n",
    "    df = pd.DataFrame()\n",
    "    df['answer'] = row_list\n",
    "    df['score'] = scores\n",
    "    #print(df)\n",
    "    df = df.sort_values(by='score', ascending=False)\n",
    "    #print(df)\n",
    "    return \",\".join(df.answer)"
   ]
  },
  {
   "cell_type": "code",
   "execution_count": 55,
   "metadata": {},
   "outputs": [
    {
     "name": "stdout",
     "output_type": "stream",
     "text": [
      "KNIT DRESS\n",
      "answerKNIT DRESS and score0.2857142857142857\n",
      "LACE DRESS\n",
      "answer LACE DRESS and score0.2857142857142857\n",
      "KNIT DRESS WITH LACE\n",
      "answer KNIT DRESS WITH LACE and score1.0\n",
      "MIDI LACE DRESS\n",
      "answer MIDI LACE DRESS and score0.5555555555555556\n",
      "STRAPPY KNIT DRESS WITH LACE\n",
      "answer STRAPPY KNIT DRESS WITH LACE and score1.0\n",
      "KNIT DRESS WITH LACE TRIM\n",
      "answer KNIT DRESS WITH LACE TRIM and score1.0\n",
      "KNIT DRESS WITH LACE DETAIL\n",
      "answer KNIT DRESS WITH LACE DETAIL and score1.0\n",
      "LACE KNIT DRESS TRF\n",
      "answer LACE KNIT DRESS TRF and score1.0\n",
      "DRESS WITH LACE TRF\n",
      "answer DRESS WITH LACE TRF and score1.0\n",
      "KNIT LACE DRESS TRF\n",
      "answer KNIT LACE DRESS TRF and score1.0\n",
      "                          answer     score\n",
      "0                     KNIT DRESS  0.285714\n",
      "1                     LACE DRESS  0.285714\n",
      "2           KNIT DRESS WITH LACE  1.000000\n",
      "3                MIDI LACE DRESS  0.555556\n",
      "4   STRAPPY KNIT DRESS WITH LACE  1.000000\n",
      "5      KNIT DRESS WITH LACE TRIM  1.000000\n",
      "6    KNIT DRESS WITH LACE DETAIL  1.000000\n",
      "7            LACE KNIT DRESS TRF  1.000000\n",
      "8            DRESS WITH LACE TRF  1.000000\n",
      "9            KNIT LACE DRESS TRF  1.000000\n",
      "                          answer     score\n",
      "2           KNIT DRESS WITH LACE  1.000000\n",
      "4   STRAPPY KNIT DRESS WITH LACE  1.000000\n",
      "5      KNIT DRESS WITH LACE TRIM  1.000000\n",
      "6    KNIT DRESS WITH LACE DETAIL  1.000000\n",
      "7            LACE KNIT DRESS TRF  1.000000\n",
      "8            DRESS WITH LACE TRF  1.000000\n",
      "9            KNIT LACE DRESS TRF  1.000000\n",
      "3                MIDI LACE DRESS  0.555556\n",
      "0                     KNIT DRESS  0.285714\n",
      "1                     LACE DRESS  0.285714\n"
     ]
    },
    {
     "data": {
      "text/plain": [
       "2             KNIT DRESS WITH LACE\n",
       "4     STRAPPY KNIT DRESS WITH LACE\n",
       "5        KNIT DRESS WITH LACE TRIM\n",
       "6      KNIT DRESS WITH LACE DETAIL\n",
       "7              LACE KNIT DRESS TRF\n",
       "8              DRESS WITH LACE TRF\n",
       "9              KNIT LACE DRESS TRF\n",
       "3                  MIDI LACE DRESS\n",
       "0                       KNIT DRESS\n",
       "1                       LACE DRESS\n",
       "Name: answer, dtype: object"
      ]
     },
     "execution_count": 55,
     "metadata": {},
     "output_type": "execute_result"
    }
   ],
   "source": [
    "new_sorted_list(df.iloc[0,0])"
   ]
  },
  {
   "cell_type": "code",
   "execution_count": 61,
   "metadata": {},
   "outputs": [
    {
     "name": "stdout",
     "output_type": "stream",
     "text": [
      "KNIT DRESS\n",
      "LACE DRESS\n",
      "KNIT DRESS WITH LACE\n",
      "MIDI LACE DRESS\n",
      "STRAPPY KNIT DRESS WITH LACE\n",
      "KNIT DRESS WITH LACE TRIM\n",
      "KNIT DRESS WITH LACE DETAIL\n",
      "LACE KNIT DRESS TRF\n",
      "DRESS WITH LACE TRF\n",
      "KNIT LACE DRESS TRF\n",
      "LOOSE-FITTING DRESS WITH DETAILS\n",
      "OVERSHIRT WITH SHORTS HEIGHT OF MODEL: 177 CM / 69.6″\n",
      "LOOSE-FITTING PENCIL DRESS\n",
      "LOOSE-FITTING DRESS TRF\n",
      "PRINTED DRESS\n",
      "OVERSIZED DRESS\n",
      "PLEATED DRESS\n",
      "JACQUARD DRESS WITH PLEATS\n",
      "LONG SLEEVE PLEATED DRESS\n",
      "PRINT DRESS\n",
      "NAUTICAL CAP\n",
      "ITEM RETURNED\n",
      "THIS ITEM MUST BE RETURNED\n",
      "NAUTICAL CAP WITH PEAK\n",
      "PACKAGING INTACT NAUTICAL CAP\n",
      "• THE ORIGINAL PACKAGING INTACT NAUTICAL CAP\n",
      "CARDBOARD PATCH CAP\n",
      "MONOGRAMMERED NAUTICAL CAP\n",
      "QUILTED NAUTICAL CAP\n",
      "NAUTICAL OVAL CAP\n",
      "NAUTICAL CAP\n",
      "NAUTICAL CAP WITH PEAK\n",
      "KNOTTED NAUTICAL CAP\n",
      "RUBBERISED NAUTICAL CAP\n",
      "SCALLOPED NAUTICAL CAP\n",
      "NAUTICAL PEAK CAP\n",
      "RIBBED NAUTICAL CAP\n",
      "MAXI NAUTICAL CAP\n",
      "NAUTICAL CAP WITH MICKEY & MINNIE ADJUSTABLE INNER STRAP\n",
      "PAPERIE-STYLE NAUTICAL CAP\n",
      "NAUTICAL CAP\n",
      "THIS ITEM MUST BE RETURNED\n",
      "SIDE BUTTON DETAIL NAUTICAL CAP\n",
      "PACKAGING INTACT NAUTICAL CAP\n",
      "PACKAGING PINAFORE NAUTICAL CAP\n",
      "PLUSH NAUTICAL CAP\n",
      "HOUNDSTOOTH NAUTICAL CAP\n",
      "OVAL NAUTICAL CAP\n",
      "BAMBI NAUTICAL CAP\n",
      "CONTRAST NAUTICAL CAP\n",
      "FADED SHORT SLEEVE T-SHIRT\n",
      "FRONT PRINT T-SHIRT\n",
      "LEMON T-SHIRT WITH FRONT PRINT\n",
      "FADED-EFFECT T-SHIRT WITH FRONT PRINT\n",
      "DYEED FRONT PRINT T-SHIRT\n",
      "DYEED SHORT SLEEVE T-SHIRT\n",
      "HEADBOARD T-SHIRT WITH PRINT\n",
      "DOGGY T-SHIRT WITH PRINT\n",
      "T-SHIRT WITH FRONT PRINT AND POCKET DETAIL\n",
      "ANIMAL PRINT T-SHIRT\n",
      "FAUX SUEDE COAT\n",
      "FAUX SUEDE LONG COAT\n",
      "COAT WITH FAUX SUEDE COLLAR\n",
      "COAT\n",
      "COAT WITH COLLAR\n",
      "FAUX SUEDE HOODED COAT\n",
      "LONG FAUX SAFFIANO COAT\n",
      "ROUND NECK COAT\n",
      "FAUX FUR COAT\n",
      "LONG SHIRT COAT\n",
      "PRINTED T-SHIRT ROUND NECK\n",
      "RIPPED T-SHIRT\n",
      "RIPPED HOODIE\n",
      "DICTATOR ROUND NECK T-SHIRT\n",
      "PYJAMA SET ROUND NECK TOP\n",
      "KNIT SWEATER’ ROUND NECK T-SHIRT\n",
      "TEXTURED T-SHIRT ROUND NECK TEXTURE\n",
      "CORDUROY SHORTS ROUND NECK T-SHIRT\n",
      "MEDIUM RIPPED T-SHIRT\n",
      "MODEL HEIGHT T-SHIRT\n",
      "FITTED POLYAMIDE TOP\n",
      "FITTED TOP\n",
      "POLYAMIDE FITTED TOP\n",
      "WIDE STRAPS POLYAMIDE TOP\n",
      "POLYAMIDE FITTED TOP TRF\n",
      "FITTED TOP TRF\n",
      "BASIC POLYAMIDE TOP\n",
      "FITTED POPLIN TOP\n",
      "FITTED KNIT TOP\n",
      "POLYAMIDE BLEND TOP\n",
      "FITTED POLYAMIDE TOP\n",
      "POLYAMIDE FITTED TOP\n",
      "TOP\n",
      "FITTED POLYAMIDE TOP TRF\n",
      "WIDE STRAPS TOP WITH HEIGHT 177 CM\n",
      "EMBOSSED CHEST TOP\n",
      "POLYAMIDE BLEND TOP\n",
      "WIDE STRAP TOP\n",
      "POLYAMIDE CHECK TOP\n",
      "CHECK FITTED TOP\n"
     ]
    },
    {
     "data": {
      "text/html": [
       "<div>\n",
       "<style scoped>\n",
       "    .dataframe tbody tr th:only-of-type {\n",
       "        vertical-align: middle;\n",
       "    }\n",
       "\n",
       "    .dataframe tbody tr th {\n",
       "        vertical-align: top;\n",
       "    }\n",
       "\n",
       "    .dataframe thead th {\n",
       "        text-align: right;\n",
       "    }\n",
       "</style>\n",
       "<table border=\"1\" class=\"dataframe\">\n",
       "  <thead>\n",
       "    <tr style=\"text-align: right;\">\n",
       "      <th></th>\n",
       "      <th>name</th>\n",
       "      <th>sorted</th>\n",
       "    </tr>\n",
       "  </thead>\n",
       "  <tbody>\n",
       "    <tr>\n",
       "      <th>0</th>\n",
       "      <td>KNIT DRESS, LACE DRESS, KNIT DRESS WITH LACE, ...</td>\n",
       "      <td>KNIT DRESS WITH LACE, STRAPPY KNIT DRESS WITH...</td>\n",
       "    </tr>\n",
       "    <tr>\n",
       "      <th>1</th>\n",
       "      <td>LOOSE-FITTING DRESS WITH DETAILS, OVERSHIRT WI...</td>\n",
       "      <td>LOOSE-FITTING PENCIL DRESS, LOOSE-FITTING DRE...</td>\n",
       "    </tr>\n",
       "    <tr>\n",
       "      <th>2</th>\n",
       "      <td>NAUTICAL CAP, ITEM RETURNED, THIS ITEM MUST BE...</td>\n",
       "      <td>THIS ITEM MUST BE RETURNED, NAUTICAL CAP WITH...</td>\n",
       "    </tr>\n",
       "    <tr>\n",
       "      <th>3</th>\n",
       "      <td>NAUTICAL CAP, NAUTICAL CAP WITH PEAK, KNOTTED ...</td>\n",
       "      <td>NAUTICAL CAP WITH PEAK, KNOTTED NAUTICAL CAP,...</td>\n",
       "    </tr>\n",
       "    <tr>\n",
       "      <th>4</th>\n",
       "      <td>NAUTICAL CAP, THIS ITEM MUST BE RETURNED, SIDE...</td>\n",
       "      <td>THIS ITEM MUST BE RETURNED, PACKAGING INTACT ...</td>\n",
       "    </tr>\n",
       "  </tbody>\n",
       "</table>\n",
       "</div>"
      ],
      "text/plain": [
       "                                                name  \\\n",
       "0  KNIT DRESS, LACE DRESS, KNIT DRESS WITH LACE, ...   \n",
       "1  LOOSE-FITTING DRESS WITH DETAILS, OVERSHIRT WI...   \n",
       "2  NAUTICAL CAP, ITEM RETURNED, THIS ITEM MUST BE...   \n",
       "3  NAUTICAL CAP, NAUTICAL CAP WITH PEAK, KNOTTED ...   \n",
       "4  NAUTICAL CAP, THIS ITEM MUST BE RETURNED, SIDE...   \n",
       "\n",
       "                                              sorted  \n",
       "0   KNIT DRESS WITH LACE, STRAPPY KNIT DRESS WITH...  \n",
       "1   LOOSE-FITTING PENCIL DRESS, LOOSE-FITTING DRE...  \n",
       "2   THIS ITEM MUST BE RETURNED, NAUTICAL CAP WITH...  \n",
       "3   NAUTICAL CAP WITH PEAK, KNOTTED NAUTICAL CAP,...  \n",
       "4   THIS ITEM MUST BE RETURNED, PACKAGING INTACT ...  "
      ]
     },
     "execution_count": 61,
     "metadata": {},
     "output_type": "execute_result"
    }
   ],
   "source": [
    "df['sorted'] = df['name'].apply(new_sorted_list)\n",
    "df.head()"
   ]
  },
  {
   "cell_type": "code",
   "execution_count": 62,
   "metadata": {},
   "outputs": [],
   "source": [
    "df= df[['sorted']]"
   ]
  },
  {
   "cell_type": "code",
   "execution_count": 65,
   "metadata": {},
   "outputs": [
    {
     "name": "stderr",
     "output_type": "stream",
     "text": [
      "C:\\Users\\ARosa\\Miniconda3\\lib\\site-packages\\pandas\\core\\frame.py:4133: SettingWithCopyWarning: \n",
      "A value is trying to be set on a copy of a slice from a DataFrame\n",
      "\n",
      "See the caveats in the documentation: https://pandas.pydata.org/pandas-docs/stable/user_guide/indexing.html#returning-a-view-versus-a-copy\n",
      "  errors=errors,\n"
     ]
    }
   ],
   "source": [
    "df.rename(columns = {'sorted':'name'}, inplace=True)"
   ]
  },
  {
   "cell_type": "code",
   "execution_count": 66,
   "metadata": {},
   "outputs": [
    {
     "data": {
      "text/html": [
       "<div>\n",
       "<style scoped>\n",
       "    .dataframe tbody tr th:only-of-type {\n",
       "        vertical-align: middle;\n",
       "    }\n",
       "\n",
       "    .dataframe tbody tr th {\n",
       "        vertical-align: top;\n",
       "    }\n",
       "\n",
       "    .dataframe thead th {\n",
       "        text-align: right;\n",
       "    }\n",
       "</style>\n",
       "<table border=\"1\" class=\"dataframe\">\n",
       "  <thead>\n",
       "    <tr style=\"text-align: right;\">\n",
       "      <th></th>\n",
       "      <th>name</th>\n",
       "    </tr>\n",
       "  </thead>\n",
       "  <tbody>\n",
       "    <tr>\n",
       "      <th>0</th>\n",
       "      <td>KNIT DRESS WITH LACE, STRAPPY KNIT DRESS WITH...</td>\n",
       "    </tr>\n",
       "    <tr>\n",
       "      <th>1</th>\n",
       "      <td>LOOSE-FITTING PENCIL DRESS, LOOSE-FITTING DRE...</td>\n",
       "    </tr>\n",
       "    <tr>\n",
       "      <th>2</th>\n",
       "      <td>THIS ITEM MUST BE RETURNED, NAUTICAL CAP WITH...</td>\n",
       "    </tr>\n",
       "    <tr>\n",
       "      <th>3</th>\n",
       "      <td>NAUTICAL CAP WITH PEAK, KNOTTED NAUTICAL CAP,...</td>\n",
       "    </tr>\n",
       "    <tr>\n",
       "      <th>4</th>\n",
       "      <td>THIS ITEM MUST BE RETURNED, PACKAGING INTACT ...</td>\n",
       "    </tr>\n",
       "  </tbody>\n",
       "</table>\n",
       "</div>"
      ],
      "text/plain": [
       "                                                name\n",
       "0   KNIT DRESS WITH LACE, STRAPPY KNIT DRESS WITH...\n",
       "1   LOOSE-FITTING PENCIL DRESS, LOOSE-FITTING DRE...\n",
       "2   THIS ITEM MUST BE RETURNED, NAUTICAL CAP WITH...\n",
       "3   NAUTICAL CAP WITH PEAK, KNOTTED NAUTICAL CAP,...\n",
       "4   THIS ITEM MUST BE RETURNED, PACKAGING INTACT ..."
      ]
     },
     "execution_count": 66,
     "metadata": {},
     "output_type": "execute_result"
    }
   ],
   "source": [
    "df.head()"
   ]
  },
  {
   "cell_type": "code",
   "execution_count": 67,
   "metadata": {},
   "outputs": [],
   "source": [
    "df.to_csv('../submission/submission_sorted.csv', sep='\\n')"
   ]
  },
  {
   "cell_type": "code",
   "execution_count": null,
   "metadata": {},
   "outputs": [],
   "source": []
  }
 ],
 "metadata": {
  "kernelspec": {
   "display_name": "Python 3",
   "language": "python",
   "name": "python3"
  },
  "language_info": {
   "codemirror_mode": {
    "name": "ipython",
    "version": 3
   },
   "file_extension": ".py",
   "mimetype": "text/x-python",
   "name": "python",
   "nbconvert_exporter": "python",
   "pygments_lexer": "ipython3",
   "version": "3.7.7"
  }
 },
 "nbformat": 4,
 "nbformat_minor": 2
}
