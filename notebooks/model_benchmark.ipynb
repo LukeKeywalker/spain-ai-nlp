{
 "cells": [
  {
   "cell_type": "code",
   "execution_count": 70,
   "metadata": {},
   "outputs": [],
   "source": [
    "import pandas as pd\n",
    "from model_benchmark_utils import *"
   ]
  },
  {
   "cell_type": "code",
   "execution_count": 71,
   "metadata": {},
   "outputs": [],
   "source": [
    "pd.set_option('display.max_rows', 100)\n",
    "pd.set_option('display.max_columns', 10)"
   ]
  },
  {
   "cell_type": "markdown",
   "metadata": {},
   "source": [
    "## Answer quality functions"
   ]
  },
  {
   "cell_type": "code",
   "execution_count": 94,
   "metadata": {},
   "outputs": [],
   "source": [
    "def uniform(answer):\n",
    "    return 1.0"
   ]
  },
  {
   "cell_type": "code",
   "execution_count": 95,
   "metadata": {},
   "outputs": [],
   "source": [
    "def preferred_length(answer):\n",
    "    split_answer = answer.split(' ')\n",
    "    word_count_factor = 1.0 if len(split_answer) in [5, 6] else 0.1\n",
    "    return word_count_factor\n"
   ]
  },
  {
   "cell_type": "markdown",
   "metadata": {},
   "source": [
    "## model-1 performance evaluation"
   ]
  },
  {
   "cell_type": "markdown",
   "metadata": {},
   "source": [
    "This was the first model trained - no training data processing was involved except from wrapping description and names in meta markers. Model was training for 4600 steps on single GPU. Average loss at that point was 0.19. Since next iteration achieved better results with average loss of 0.35 it could mean that at this point model-1 was already overfitted, or otherwise broken. Tensorboard graph - and most probably model itself - is messed up from multiple training attempts with different training parameters. Because of that it a was throw away model to figure out whole process of training and generating answers for submission.\n",
    "\n",
    "Submission was generated with a heuristics that favoured answers having most words in common with the description.\n",
    "\n",
    "Model scored 0.14 in the challenge test which is slightly above tested maximum potential (see below)"
   ]
  },
  {
   "cell_type": "code",
   "execution_count": 115,
   "metadata": {},
   "outputs": [],
   "source": [
    "model_1_answers, model_1_score = evaluate_all_test_sets_of_model(1, uniform)"
   ]
  },
  {
   "cell_type": "markdown",
   "metadata": {},
   "source": [
    "Best answers:"
   ]
  },
  {
   "cell_type": "code",
   "execution_count": 116,
   "metadata": {
    "scrolled": false
   },
   "outputs": [
    {
     "data": {
      "text/html": [
       "<div>\n",
       "<style scoped>\n",
       "    .dataframe tbody tr th:only-of-type {\n",
       "        vertical-align: middle;\n",
       "    }\n",
       "\n",
       "    .dataframe tbody tr th {\n",
       "        vertical-align: top;\n",
       "    }\n",
       "\n",
       "    .dataframe thead th {\n",
       "        text-align: right;\n",
       "    }\n",
       "</style>\n",
       "<table border=\"1\" class=\"dataframe\">\n",
       "  <thead>\n",
       "    <tr style=\"text-align: right;\">\n",
       "      <th></th>\n",
       "      <th>name</th>\n",
       "      <th>description</th>\n",
       "      <th>answers</th>\n",
       "      <th>score</th>\n",
       "    </tr>\n",
       "  </thead>\n",
       "  <tbody>\n",
       "    <tr>\n",
       "      <th>17</th>\n",
       "      <td>WOODEN STOOL</td>\n",
       "      <td>Wooden stool.</td>\n",
       "      <td>WOODEN STOOL, TWO-TONE WOODEN STOOL, WARM WOOD...</td>\n",
       "      <td>1.0</td>\n",
       "    </tr>\n",
       "    <tr>\n",
       "      <th>56</th>\n",
       "      <td>BAMBI © DISNEY T-SHIRT</td>\n",
       "      <td>Short sleeve T-shirt with a round neckline. BA...</td>\n",
       "      <td>BAMBI © DISNEY T-SHIRT, RIBBED T-SHIRT WITH BA...</td>\n",
       "      <td>1.0</td>\n",
       "    </tr>\n",
       "    <tr>\n",
       "      <th>68</th>\n",
       "      <td>SNOOPY ® PEANUTS SHORTS</td>\n",
       "      <td>Shorts with an elastic waistband and decorativ...</td>\n",
       "      <td>SNOOPY ® PEANUTS SHORTS, SNOOPY ® PEANUTS FABR...</td>\n",
       "      <td>1.0</td>\n",
       "    </tr>\n",
       "    <tr>\n",
       "      <th>51</th>\n",
       "      <td>WOODEN MIRROR</td>\n",
       "      <td>Wooden mirror in the shape of a teardrop.</td>\n",
       "      <td>WOODEN MIRROR, WHITE WOODEN MIRROR, TEXTURED S...</td>\n",
       "      <td>1.0</td>\n",
       "    </tr>\n",
       "    <tr>\n",
       "      <th>94</th>\n",
       "      <td>WOODEN BEDSIDE TABLE</td>\n",
       "      <td>Wooden bedside table featuring a raised design...</td>\n",
       "      <td>WOODEN BEDSIDE TABLE, WAFFLE TABLE WITH A RAIS...</td>\n",
       "      <td>1.0</td>\n",
       "    </tr>\n",
       "    <tr>\n",
       "      <th>84</th>\n",
       "      <td>FAUX LEATHER BIKER JACKET</td>\n",
       "      <td>Faux leather biker jacket with snap-button tab...</td>\n",
       "      <td>FAUX LEATHER BIKER JACKET, FAUX LEATHER BIKER ...</td>\n",
       "      <td>1.0</td>\n",
       "    </tr>\n",
       "    <tr>\n",
       "      <th>47</th>\n",
       "      <td>DYED THREAD COTTON TEA TOWEL (PACK OF 3)</td>\n",
       "      <td>Dyed thread cotton tea towel. Sold in packs of...</td>\n",
       "      <td>DYED THREAD COTTON TEA TOWEL (PACK OF 3), TWO-...</td>\n",
       "      <td>1.0</td>\n",
       "    </tr>\n",
       "    <tr>\n",
       "      <th>94</th>\n",
       "      <td>ZARA ULTIMATTE MM01</td>\n",
       "      <td>ZARA ULTIMATTE MM01 MATTE LIPSTICK 3.5 GR (0.1...</td>\n",
       "      <td>ZARA ULTIMATTE MM01, ULTIMATTE MM01 MATTE LIPS...</td>\n",
       "      <td>1.0</td>\n",
       "    </tr>\n",
       "    <tr>\n",
       "      <th>54</th>\n",
       "      <td>LARGE ROUND BAMBOO BASKET</td>\n",
       "      <td>Large round bamboo basket with woven rattan sh...</td>\n",
       "      <td>LARGE ROUND BAMBOO BASKET, LARGE ROUND BAMBOO ...</td>\n",
       "      <td>1.0</td>\n",
       "    </tr>\n",
       "    <tr>\n",
       "      <th>10</th>\n",
       "      <td>RAISED DESIGN ICE-CREAM DISH</td>\n",
       "      <td>Ice-cream dish with a raised design. Capacity:...</td>\n",
       "      <td>RAISED DESIGN ICE-CREAM DISH, ICE-CREAM DISH W...</td>\n",
       "      <td>1.0</td>\n",
       "    </tr>\n",
       "  </tbody>\n",
       "</table>\n",
       "</div>"
      ],
      "text/plain": [
       "                                        name  \\\n",
       "17                              WOODEN STOOL   \n",
       "56                    BAMBI © DISNEY T-SHIRT   \n",
       "68                   SNOOPY ® PEANUTS SHORTS   \n",
       "51                             WOODEN MIRROR   \n",
       "94                      WOODEN BEDSIDE TABLE   \n",
       "84                 FAUX LEATHER BIKER JACKET   \n",
       "47  DYED THREAD COTTON TEA TOWEL (PACK OF 3)   \n",
       "94                       ZARA ULTIMATTE MM01   \n",
       "54                 LARGE ROUND BAMBOO BASKET   \n",
       "10              RAISED DESIGN ICE-CREAM DISH   \n",
       "\n",
       "                                          description  \\\n",
       "17                                      Wooden stool.   \n",
       "56  Short sleeve T-shirt with a round neckline. BA...   \n",
       "68  Shorts with an elastic waistband and decorativ...   \n",
       "51          Wooden mirror in the shape of a teardrop.   \n",
       "94  Wooden bedside table featuring a raised design...   \n",
       "84  Faux leather biker jacket with snap-button tab...   \n",
       "47  Dyed thread cotton tea towel. Sold in packs of...   \n",
       "94  ZARA ULTIMATTE MM01 MATTE LIPSTICK 3.5 GR (0.1...   \n",
       "54  Large round bamboo basket with woven rattan sh...   \n",
       "10  Ice-cream dish with a raised design. Capacity:...   \n",
       "\n",
       "                                              answers  score  \n",
       "17  WOODEN STOOL, TWO-TONE WOODEN STOOL, WARM WOOD...    1.0  \n",
       "56  BAMBI © DISNEY T-SHIRT, RIBBED T-SHIRT WITH BA...    1.0  \n",
       "68  SNOOPY ® PEANUTS SHORTS, SNOOPY ® PEANUTS FABR...    1.0  \n",
       "51  WOODEN MIRROR, WHITE WOODEN MIRROR, TEXTURED S...    1.0  \n",
       "94  WOODEN BEDSIDE TABLE, WAFFLE TABLE WITH A RAIS...    1.0  \n",
       "84  FAUX LEATHER BIKER JACKET, FAUX LEATHER BIKER ...    1.0  \n",
       "47  DYED THREAD COTTON TEA TOWEL (PACK OF 3), TWO-...    1.0  \n",
       "94  ZARA ULTIMATTE MM01, ULTIMATTE MM01 MATTE LIPS...    1.0  \n",
       "54  LARGE ROUND BAMBOO BASKET, LARGE ROUND BAMBOO ...    1.0  \n",
       "10  RAISED DESIGN ICE-CREAM DISH, ICE-CREAM DISH W...    1.0  "
      ]
     },
     "execution_count": 116,
     "metadata": {},
     "output_type": "execute_result"
    }
   ],
   "source": [
    "model_1_answers.sort_values(by='score', ascending=False).head(10)"
   ]
  },
  {
   "cell_type": "markdown",
   "metadata": {},
   "source": [
    "Worst answers:"
   ]
  },
  {
   "cell_type": "code",
   "execution_count": 117,
   "metadata": {},
   "outputs": [
    {
     "data": {
      "text/html": [
       "<div>\n",
       "<style scoped>\n",
       "    .dataframe tbody tr th:only-of-type {\n",
       "        vertical-align: middle;\n",
       "    }\n",
       "\n",
       "    .dataframe tbody tr th {\n",
       "        vertical-align: top;\n",
       "    }\n",
       "\n",
       "    .dataframe thead th {\n",
       "        text-align: right;\n",
       "    }\n",
       "</style>\n",
       "<table border=\"1\" class=\"dataframe\">\n",
       "  <thead>\n",
       "    <tr style=\"text-align: right;\">\n",
       "      <th></th>\n",
       "      <th>name</th>\n",
       "      <th>description</th>\n",
       "      <th>answers</th>\n",
       "      <th>score</th>\n",
       "    </tr>\n",
       "  </thead>\n",
       "  <tbody>\n",
       "    <tr>\n",
       "      <th>0</th>\n",
       "      <td>SMILE T-SHIRT</td>\n",
       "      <td>Long sleeve T-shirt with a round neckline and ...</td>\n",
       "      <td>PLUSH T-SHIRT WITH AN EMBOSSED TEXT, BLACK STR...</td>\n",
       "      <td>0.0</td>\n",
       "    </tr>\n",
       "    <tr>\n",
       "      <th>31</th>\n",
       "      <td>CHECKED PINAFORE DRESS</td>\n",
       "      <td>Pinafore dress with a round neckline and strap...</td>\n",
       "      <td>ESSENCE PINAFORE DRESS WITH FEATURING FRONT, L...</td>\n",
       "      <td>0.0</td>\n",
       "    </tr>\n",
       "    <tr>\n",
       "      <th>30</th>\n",
       "      <td>RUSTIC TROUSERS</td>\n",
       "      <td>High-waist trousers with an elastic waistband.</td>\n",
       "      <td>HIGH-WAIST TROUSERS, HIGH-WAIST TEXTURED TROUS...</td>\n",
       "      <td>0.0</td>\n",
       "    </tr>\n",
       "    <tr>\n",
       "      <th>29</th>\n",
       "      <td>SHIRRED WAIST TROUSERS</td>\n",
       "      <td>High-waist trousers with an elastic waist. Fea...</td>\n",
       "      <td>TROUSERS WITH CONTRAST WAIST, HOUNDSTOOTH WOOL...</td>\n",
       "      <td>0.0</td>\n",
       "    </tr>\n",
       "    <tr>\n",
       "      <th>28</th>\n",
       "      <td>ROUND FLOOR CUSHION</td>\n",
       "      <td>Round padded floor cushion with a star print. ...</td>\n",
       "      <td>STAR PRINT ROUND PADDED FLOOR CUSHION, ROUND P...</td>\n",
       "      <td>0.0</td>\n",
       "    </tr>\n",
       "    <tr>\n",
       "      <th>27</th>\n",
       "      <td>FLOWERS HAIRBAND</td>\n",
       "      <td>Headband with bow appliqué and a floral print.</td>\n",
       "      <td>BELT BAG WITH FLORAL PRINT, FOAM BAND WITH FLO...</td>\n",
       "      <td>0.0</td>\n",
       "    </tr>\n",
       "    <tr>\n",
       "      <th>26</th>\n",
       "      <td>RELAXED FIT HI-RISE FLARED JEANS</td>\n",
       "      <td>Faded high-waist jeans with a five-pocket desi...</td>\n",
       "      <td>Z1975 HIGH-WAIST JEANS WITH FEATURING WAIST, F...</td>\n",
       "      <td>0.0</td>\n",
       "    </tr>\n",
       "    <tr>\n",
       "      <th>25</th>\n",
       "      <td>COMBINED HERRINGBONE BRACES</td>\n",
       "      <td>Adjustable elastic braces. Metal brace clips w...</td>\n",
       "      <td>ADJUSTABLE LEATHER SCARF, ADJUSTABLE METAL BRA...</td>\n",
       "      <td>0.0</td>\n",
       "    </tr>\n",
       "    <tr>\n",
       "      <th>24</th>\n",
       "      <td>FLOWING PRINTED BERMUDA SHORTS</td>\n",
       "      <td>High-waist Bermuda shorts with an elastic wais...</td>\n",
       "      <td>LEOPARD PRINT BERMUDA SHORTS, ELASTIC WAISTBAN...</td>\n",
       "      <td>0.0</td>\n",
       "    </tr>\n",
       "    <tr>\n",
       "      <th>23</th>\n",
       "      <td>TECHNICAL OVERSHIRT</td>\n",
       "      <td>Relaxed fit overshirt made of technical fabric...</td>\n",
       "      <td>RESEARCH TECHNICAL MOUSEIRT, RUBBERISED OVERSH...</td>\n",
       "      <td>0.0</td>\n",
       "    </tr>\n",
       "  </tbody>\n",
       "</table>\n",
       "</div>"
      ],
      "text/plain": [
       "                                name  \\\n",
       "0                      SMILE T-SHIRT   \n",
       "31            CHECKED PINAFORE DRESS   \n",
       "30                   RUSTIC TROUSERS   \n",
       "29            SHIRRED WAIST TROUSERS   \n",
       "28               ROUND FLOOR CUSHION   \n",
       "27                  FLOWERS HAIRBAND   \n",
       "26  RELAXED FIT HI-RISE FLARED JEANS   \n",
       "25       COMBINED HERRINGBONE BRACES   \n",
       "24    FLOWING PRINTED BERMUDA SHORTS   \n",
       "23               TECHNICAL OVERSHIRT   \n",
       "\n",
       "                                          description  \\\n",
       "0   Long sleeve T-shirt with a round neckline and ...   \n",
       "31  Pinafore dress with a round neckline and strap...   \n",
       "30     High-waist trousers with an elastic waistband.   \n",
       "29  High-waist trousers with an elastic waist. Fea...   \n",
       "28  Round padded floor cushion with a star print. ...   \n",
       "27     Headband with bow appliqué and a floral print.   \n",
       "26  Faded high-waist jeans with a five-pocket desi...   \n",
       "25  Adjustable elastic braces. Metal brace clips w...   \n",
       "24  High-waist Bermuda shorts with an elastic wais...   \n",
       "23  Relaxed fit overshirt made of technical fabric...   \n",
       "\n",
       "                                              answers  score  \n",
       "0   PLUSH T-SHIRT WITH AN EMBOSSED TEXT, BLACK STR...    0.0  \n",
       "31  ESSENCE PINAFORE DRESS WITH FEATURING FRONT, L...    0.0  \n",
       "30  HIGH-WAIST TROUSERS, HIGH-WAIST TEXTURED TROUS...    0.0  \n",
       "29  TROUSERS WITH CONTRAST WAIST, HOUNDSTOOTH WOOL...    0.0  \n",
       "28  STAR PRINT ROUND PADDED FLOOR CUSHION, ROUND P...    0.0  \n",
       "27  BELT BAG WITH FLORAL PRINT, FOAM BAND WITH FLO...    0.0  \n",
       "26  Z1975 HIGH-WAIST JEANS WITH FEATURING WAIST, F...    0.0  \n",
       "25  ADJUSTABLE LEATHER SCARF, ADJUSTABLE METAL BRA...    0.0  \n",
       "24  LEOPARD PRINT BERMUDA SHORTS, ELASTIC WAISTBAN...    0.0  \n",
       "23  RESEARCH TECHNICAL MOUSEIRT, RUBBERISED OVERSH...    0.0  "
      ]
     },
     "execution_count": 117,
     "metadata": {},
     "output_type": "execute_result"
    }
   ],
   "source": [
    "model_1_answers.sort_values(by='score').head(10)"
   ]
  },
  {
   "cell_type": "markdown",
   "metadata": {},
   "source": [
    "Tested maximum potential (answers in perfect order):"
   ]
  },
  {
   "cell_type": "code",
   "execution_count": 124,
   "metadata": {},
   "outputs": [
    {
     "data": {
      "text/plain": [
       "0.126"
      ]
     },
     "execution_count": 124,
     "metadata": {},
     "output_type": "execute_result"
    }
   ],
   "source": [
    "model_potential(model_1_answers)"
   ]
  },
  {
   "cell_type": "markdown",
   "metadata": {},
   "source": [
    "Tested score of unsorted answers:"
   ]
  },
  {
   "cell_type": "code",
   "execution_count": 125,
   "metadata": {},
   "outputs": [
    {
     "data": {
      "text/plain": [
       "0.06013566126658126"
      ]
     },
     "execution_count": 125,
     "metadata": {},
     "output_type": "execute_result"
    }
   ],
   "source": [
    "model_1_score"
   ]
  },
  {
   "cell_type": "markdown",
   "metadata": {},
   "source": [
    "## model-2 performance evaluation"
   ]
  },
  {
   "cell_type": "markdown",
   "metadata": {},
   "source": [
    "Another attempt to train was focused on utilizing both GPUs and training time optimization. Enabling multi_gpu flag caused more memory pressure on the first card while the second one's memory allocation was only 60%. In order to decrease memory allocation on the first card I enabled use_memory_saving_gradients option which also forced disabling accumulate_gradients option. Learning rate was increased from default 0.0001 to 0.0002\n",
    "\n",
    "Model was training on 2 GPUs with batch size of 10. After 1400 steps average loss was 0.35"
   ]
  },
  {
   "cell_type": "code",
   "execution_count": 118,
   "metadata": {
    "scrolled": true
   },
   "outputs": [],
   "source": [
    "model_2_answers, model_2_score = evaluate_all_test_sets_of_model(2, uniform)"
   ]
  },
  {
   "cell_type": "markdown",
   "metadata": {},
   "source": [
    "Best answers:"
   ]
  },
  {
   "cell_type": "code",
   "execution_count": 121,
   "metadata": {},
   "outputs": [
    {
     "data": {
      "text/html": [
       "<div>\n",
       "<style scoped>\n",
       "    .dataframe tbody tr th:only-of-type {\n",
       "        vertical-align: middle;\n",
       "    }\n",
       "\n",
       "    .dataframe tbody tr th {\n",
       "        vertical-align: top;\n",
       "    }\n",
       "\n",
       "    .dataframe thead th {\n",
       "        text-align: right;\n",
       "    }\n",
       "</style>\n",
       "<table border=\"1\" class=\"dataframe\">\n",
       "  <thead>\n",
       "    <tr style=\"text-align: right;\">\n",
       "      <th></th>\n",
       "      <th>name</th>\n",
       "      <th>description</th>\n",
       "      <th>answers</th>\n",
       "      <th>score</th>\n",
       "    </tr>\n",
       "  </thead>\n",
       "  <tbody>\n",
       "    <tr>\n",
       "      <th>11</th>\n",
       "      <td>DEEP GARDEN 100 ML</td>\n",
       "      <td>DEEP GARDEN 100 ML (3.4 FL. OZ). &lt;br/&gt;&lt;br/&gt;Eau...</td>\n",
       "      <td>DEEP GARDEN 100 ML, DEEP GARDEN 100ML, BEACH P...</td>\n",
       "      <td>1.0</td>\n",
       "    </tr>\n",
       "    <tr>\n",
       "      <th>76</th>\n",
       "      <td>METALLIC THREAD CHECK BLANKET</td>\n",
       "      <td>Checked knit blanket with metallic thread deta...</td>\n",
       "      <td>METALLIC THREAD CHECK BLANKET, TEXTURED BLANKE...</td>\n",
       "      <td>1.0</td>\n",
       "    </tr>\n",
       "    <tr>\n",
       "      <th>28</th>\n",
       "      <td>ANIMAL PRINT LEATHER BOOTS</td>\n",
       "      <td>Laceless leather boots with a decorative anima...</td>\n",
       "      <td>ANIMAL PRINT LEATHER BOOTS, ANIMAL PRINT LEATH...</td>\n",
       "      <td>1.0</td>\n",
       "    </tr>\n",
       "    <tr>\n",
       "      <th>69</th>\n",
       "      <td>KNIT JACQUARD SNOOD</td>\n",
       "      <td>Knit snood with jacquard motifs.</td>\n",
       "      <td>KNIT JACQUARD SNOOD, KNITTED SNOOD, JACQUARD K...</td>\n",
       "      <td>1.0</td>\n",
       "    </tr>\n",
       "    <tr>\n",
       "      <th>67</th>\n",
       "      <td>SPIDER-MAN © MARVEL SWEATSHIRT</td>\n",
       "      <td>Long sleeve sweatshirt with a round neckline a...</td>\n",
       "      <td>SPIDER-MAN © MARVEL SWEATSHIRT, SPIDER-MAN © M...</td>\n",
       "      <td>1.0</td>\n",
       "    </tr>\n",
       "    <tr>\n",
       "      <th>61</th>\n",
       "      <td>TECHNICAL CARGO TROUSERS</td>\n",
       "      <td>Trousers made of technical fabric with elastic...</td>\n",
       "      <td>TECHNICAL CARGO TROUSERS, TEXTURED TROUSERS, Q...</td>\n",
       "      <td>1.0</td>\n",
       "    </tr>\n",
       "    <tr>\n",
       "      <th>29</th>\n",
       "      <td>ROUND WOODEN JEWELLERY BOX</td>\n",
       "      <td>Round wooden jewellery box with a mirror insid...</td>\n",
       "      <td>ROUND WOODEN JEWELLERY BOX, LARGE MIRRORED WOR...</td>\n",
       "      <td>1.0</td>\n",
       "    </tr>\n",
       "    <tr>\n",
       "      <th>92</th>\n",
       "      <td>TUBEROSE 10ML</td>\n",
       "      <td>ZARA TUBEROSE EDT 10ML (0.34 FL. OZ). &lt;br/&gt;&lt;br...</td>\n",
       "      <td>TUBEROSE 10ML, TUBEROSE EDT 10 ML / 0.34 OZ, T...</td>\n",
       "      <td>1.0</td>\n",
       "    </tr>\n",
       "    <tr>\n",
       "      <th>37</th>\n",
       "      <td>MICKEY MOUSE ©DISNEY SWEATSHIRT</td>\n",
       "      <td>Sweatshirt with a round neckline, long sleeves...</td>\n",
       "      <td>MICKEY MOUSE ©DISNEY SWEATSHIRT, MICKEY MOUSE ...</td>\n",
       "      <td>1.0</td>\n",
       "    </tr>\n",
       "    <tr>\n",
       "      <th>61</th>\n",
       "      <td>CUIR NUIT CAR AIR FRESHENER</td>\n",
       "      <td>Car air freshener with clip.&lt;br/&gt;&lt;br/&gt;Aroma: C...</td>\n",
       "      <td>CUIR NUIT CAR AIR FRESHENER, CUIRNOFF CAR AIR ...</td>\n",
       "      <td>1.0</td>\n",
       "    </tr>\n",
       "  </tbody>\n",
       "</table>\n",
       "</div>"
      ],
      "text/plain": [
       "                               name  \\\n",
       "11               DEEP GARDEN 100 ML   \n",
       "76    METALLIC THREAD CHECK BLANKET   \n",
       "28       ANIMAL PRINT LEATHER BOOTS   \n",
       "69              KNIT JACQUARD SNOOD   \n",
       "67   SPIDER-MAN © MARVEL SWEATSHIRT   \n",
       "61         TECHNICAL CARGO TROUSERS   \n",
       "29       ROUND WOODEN JEWELLERY BOX   \n",
       "92                    TUBEROSE 10ML   \n",
       "37  MICKEY MOUSE ©DISNEY SWEATSHIRT   \n",
       "61      CUIR NUIT CAR AIR FRESHENER   \n",
       "\n",
       "                                          description  \\\n",
       "11  DEEP GARDEN 100 ML (3.4 FL. OZ). <br/><br/>Eau...   \n",
       "76  Checked knit blanket with metallic thread deta...   \n",
       "28  Laceless leather boots with a decorative anima...   \n",
       "69                   Knit snood with jacquard motifs.   \n",
       "67  Long sleeve sweatshirt with a round neckline a...   \n",
       "61  Trousers made of technical fabric with elastic...   \n",
       "29  Round wooden jewellery box with a mirror insid...   \n",
       "92  ZARA TUBEROSE EDT 10ML (0.34 FL. OZ). <br/><br...   \n",
       "37  Sweatshirt with a round neckline, long sleeves...   \n",
       "61  Car air freshener with clip.<br/><br/>Aroma: C...   \n",
       "\n",
       "                                              answers  score  \n",
       "11  DEEP GARDEN 100 ML, DEEP GARDEN 100ML, BEACH P...    1.0  \n",
       "76  METALLIC THREAD CHECK BLANKET, TEXTURED BLANKE...    1.0  \n",
       "28  ANIMAL PRINT LEATHER BOOTS, ANIMAL PRINT LEATH...    1.0  \n",
       "69  KNIT JACQUARD SNOOD, KNITTED SNOOD, JACQUARD K...    1.0  \n",
       "67  SPIDER-MAN © MARVEL SWEATSHIRT, SPIDER-MAN © M...    1.0  \n",
       "61  TECHNICAL CARGO TROUSERS, TEXTURED TROUSERS, Q...    1.0  \n",
       "29  ROUND WOODEN JEWELLERY BOX, LARGE MIRRORED WOR...    1.0  \n",
       "92  TUBEROSE 10ML, TUBEROSE EDT 10 ML / 0.34 OZ, T...    1.0  \n",
       "37  MICKEY MOUSE ©DISNEY SWEATSHIRT, MICKEY MOUSE ...    1.0  \n",
       "61  CUIR NUIT CAR AIR FRESHENER, CUIRNOFF CAR AIR ...    1.0  "
      ]
     },
     "execution_count": 121,
     "metadata": {},
     "output_type": "execute_result"
    }
   ],
   "source": [
    "model_2_answers.sort_values(by='score', ascending=False).head(10)"
   ]
  },
  {
   "cell_type": "markdown",
   "metadata": {},
   "source": [
    "Worst answers:"
   ]
  },
  {
   "cell_type": "code",
   "execution_count": 122,
   "metadata": {
    "scrolled": true
   },
   "outputs": [
    {
     "data": {
      "text/html": [
       "<div>\n",
       "<style scoped>\n",
       "    .dataframe tbody tr th:only-of-type {\n",
       "        vertical-align: middle;\n",
       "    }\n",
       "\n",
       "    .dataframe tbody tr th {\n",
       "        vertical-align: top;\n",
       "    }\n",
       "\n",
       "    .dataframe thead th {\n",
       "        text-align: right;\n",
       "    }\n",
       "</style>\n",
       "<table border=\"1\" class=\"dataframe\">\n",
       "  <thead>\n",
       "    <tr style=\"text-align: right;\">\n",
       "      <th></th>\n",
       "      <th>name</th>\n",
       "      <th>description</th>\n",
       "      <th>answers</th>\n",
       "      <th>score</th>\n",
       "    </tr>\n",
       "  </thead>\n",
       "  <tbody>\n",
       "    <tr>\n",
       "      <th>0</th>\n",
       "      <td>SMILE T-SHIRT</td>\n",
       "      <td>Long sleeve T-shirt with a round neckline and ...</td>\n",
       "      <td>PRINTED T-SHIRT, FLORAL PRINT T-SHIRT, FOOTBAL...</td>\n",
       "      <td>0.0</td>\n",
       "    </tr>\n",
       "    <tr>\n",
       "      <th>62</th>\n",
       "      <td>JACQUARD BLAZER</td>\n",
       "      <td>Blazer with a round collar and long sleeves. F...</td>\n",
       "      <td>FAUX LEATHER BLAZER, TAFFETA CHECK SUIT BLAZER...</td>\n",
       "      <td>0.0</td>\n",
       "    </tr>\n",
       "    <tr>\n",
       "      <th>63</th>\n",
       "      <td>TRAVELER SUIT TROUSERS</td>\n",
       "      <td>Trousers made of textured bi-stretch, easy-to-...</td>\n",
       "      <td>EASY-TO-IRON TECHNICAL TROUSERS, SLIM FIT TROU...</td>\n",
       "      <td>0.0</td>\n",
       "    </tr>\n",
       "    <tr>\n",
       "      <th>64</th>\n",
       "      <td>FAMILY T-SHIRT</td>\n",
       "      <td>Short sleeve T-shirt with a round neck and slo...</td>\n",
       "      <td>ANIMAL PRINT STRIPE T-SHIRT, LONGLINE SLOGAN T...</td>\n",
       "      <td>0.0</td>\n",
       "    </tr>\n",
       "    <tr>\n",
       "      <th>65</th>\n",
       "      <td>SPARKLY DRESS</td>\n",
       "      <td>Dress featuring a straight neckline and ruffle...</td>\n",
       "      <td>RUFFLED SHIRT DRESS, SHINY TEXTURED DRESS WITH...</td>\n",
       "      <td>0.0</td>\n",
       "    </tr>\n",
       "    <tr>\n",
       "      <th>66</th>\n",
       "      <td>POPLIN TOP WITH CUTWORK EMBROIDERY TRF</td>\n",
       "      <td>Crop top with a wide straight neckline and sho...</td>\n",
       "      <td>LACE ORGANZA TOP, CUT OUT MINI CROP TOP, PRINT...</td>\n",
       "      <td>0.0</td>\n",
       "    </tr>\n",
       "    <tr>\n",
       "      <th>68</th>\n",
       "      <td>STRIPE PRINT TOP</td>\n",
       "      <td>Top with an adjustable buttoned high neck, lon...</td>\n",
       "      <td>FAUX LEATHER TOP, PLEATED TOP, ORGANZA PRINT T...</td>\n",
       "      <td>0.0</td>\n",
       "    </tr>\n",
       "    <tr>\n",
       "      <th>69</th>\n",
       "      <td>FUR CUSHION COVER</td>\n",
       "      <td>Faux fur cushion cover. Cushion filling not in...</td>\n",
       "      <td>FAUX FUR QUILDREN'S CUSHION COVER, FAUX FUR CU...</td>\n",
       "      <td>0.0</td>\n",
       "    </tr>\n",
       "    <tr>\n",
       "      <th>70</th>\n",
       "      <td>PRINTED MIDI DRESS TRF</td>\n",
       "      <td>Dress with a round neck and long sleeves. Feat...</td>\n",
       "      <td>PLEATED DRESS, SATEEN DRESS TRF, CHECK DRESS, ...</td>\n",
       "      <td>0.0</td>\n",
       "    </tr>\n",
       "    <tr>\n",
       "      <th>60</th>\n",
       "      <td>SUEDE FLAT MULES WITH JUTE SOLE</td>\n",
       "      <td>Sand-coloured leather flat mules. Split suede ...</td>\n",
       "      <td>SQUARE-TOE LEATHER SHOES/SUEDE HEEL SHOT, LEAT...</td>\n",
       "      <td>0.0</td>\n",
       "    </tr>\n",
       "  </tbody>\n",
       "</table>\n",
       "</div>"
      ],
      "text/plain": [
       "                                      name  \\\n",
       "0                            SMILE T-SHIRT   \n",
       "62                         JACQUARD BLAZER   \n",
       "63                  TRAVELER SUIT TROUSERS   \n",
       "64                          FAMILY T-SHIRT   \n",
       "65                           SPARKLY DRESS   \n",
       "66  POPLIN TOP WITH CUTWORK EMBROIDERY TRF   \n",
       "68                        STRIPE PRINT TOP   \n",
       "69                       FUR CUSHION COVER   \n",
       "70                  PRINTED MIDI DRESS TRF   \n",
       "60         SUEDE FLAT MULES WITH JUTE SOLE   \n",
       "\n",
       "                                          description  \\\n",
       "0   Long sleeve T-shirt with a round neckline and ...   \n",
       "62  Blazer with a round collar and long sleeves. F...   \n",
       "63  Trousers made of textured bi-stretch, easy-to-...   \n",
       "64  Short sleeve T-shirt with a round neck and slo...   \n",
       "65  Dress featuring a straight neckline and ruffle...   \n",
       "66  Crop top with a wide straight neckline and sho...   \n",
       "68  Top with an adjustable buttoned high neck, lon...   \n",
       "69  Faux fur cushion cover. Cushion filling not in...   \n",
       "70  Dress with a round neck and long sleeves. Feat...   \n",
       "60  Sand-coloured leather flat mules. Split suede ...   \n",
       "\n",
       "                                              answers  score  \n",
       "0   PRINTED T-SHIRT, FLORAL PRINT T-SHIRT, FOOTBAL...    0.0  \n",
       "62  FAUX LEATHER BLAZER, TAFFETA CHECK SUIT BLAZER...    0.0  \n",
       "63  EASY-TO-IRON TECHNICAL TROUSERS, SLIM FIT TROU...    0.0  \n",
       "64  ANIMAL PRINT STRIPE T-SHIRT, LONGLINE SLOGAN T...    0.0  \n",
       "65  RUFFLED SHIRT DRESS, SHINY TEXTURED DRESS WITH...    0.0  \n",
       "66  LACE ORGANZA TOP, CUT OUT MINI CROP TOP, PRINT...    0.0  \n",
       "68  FAUX LEATHER TOP, PLEATED TOP, ORGANZA PRINT T...    0.0  \n",
       "69  FAUX FUR QUILDREN'S CUSHION COVER, FAUX FUR CU...    0.0  \n",
       "70  PLEATED DRESS, SATEEN DRESS TRF, CHECK DRESS, ...    0.0  \n",
       "60  SQUARE-TOE LEATHER SHOES/SUEDE HEEL SHOT, LEAT...    0.0  "
      ]
     },
     "execution_count": 122,
     "metadata": {},
     "output_type": "execute_result"
    }
   ],
   "source": [
    "model_2_answers.sort_values(by='score').head(10)"
   ]
  },
  {
   "cell_type": "markdown",
   "metadata": {},
   "source": [
    "Tested maximum potential:"
   ]
  },
  {
   "cell_type": "code",
   "execution_count": 126,
   "metadata": {},
   "outputs": [
    {
     "data": {
      "text/plain": [
       "0.424"
      ]
     },
     "execution_count": 126,
     "metadata": {},
     "output_type": "execute_result"
    }
   ],
   "source": [
    "model_potential(model_2_answers)"
   ]
  },
  {
   "cell_type": "markdown",
   "metadata": {},
   "source": [
    "Tested score of unsorted answers:"
   ]
  },
  {
   "cell_type": "code",
   "execution_count": 127,
   "metadata": {},
   "outputs": [
    {
     "data": {
      "text/plain": [
       "0.20923177841180252"
      ]
     },
     "execution_count": 127,
     "metadata": {},
     "output_type": "execute_result"
    }
   ],
   "source": [
    "model_2_score"
   ]
  },
  {
   "cell_type": "markdown",
   "metadata": {},
   "source": [
    "## model-2.1 performance evaluation"
   ]
  },
  {
   "cell_type": "markdown",
   "metadata": {},
   "source": [
    "Model 2.1 is even more finetuned model 2. After another 1200 steps average loss was at 0.247 and tested score is significantly improved"
   ]
  },
  {
   "cell_type": "code",
   "execution_count": 128,
   "metadata": {
    "scrolled": false
   },
   "outputs": [],
   "source": [
    "model_2_1_answers, model_2_1_score = evaluate_all_test_sets_of_model('2.1', uniform)"
   ]
  },
  {
   "cell_type": "markdown",
   "metadata": {},
   "source": [
    "Best answers:"
   ]
  },
  {
   "cell_type": "code",
   "execution_count": 129,
   "metadata": {},
   "outputs": [
    {
     "data": {
      "text/html": [
       "<div>\n",
       "<style scoped>\n",
       "    .dataframe tbody tr th:only-of-type {\n",
       "        vertical-align: middle;\n",
       "    }\n",
       "\n",
       "    .dataframe tbody tr th {\n",
       "        vertical-align: top;\n",
       "    }\n",
       "\n",
       "    .dataframe thead th {\n",
       "        text-align: right;\n",
       "    }\n",
       "</style>\n",
       "<table border=\"1\" class=\"dataframe\">\n",
       "  <thead>\n",
       "    <tr style=\"text-align: right;\">\n",
       "      <th></th>\n",
       "      <th>name</th>\n",
       "      <th>description</th>\n",
       "      <th>answers</th>\n",
       "      <th>score</th>\n",
       "    </tr>\n",
       "  </thead>\n",
       "  <tbody>\n",
       "    <tr>\n",
       "      <th>11</th>\n",
       "      <td>DEEP GARDEN 100 ML</td>\n",
       "      <td>DEEP GARDEN 100 ML (3.4 FL. OZ). &lt;br/&gt;&lt;br/&gt;Eau...</td>\n",
       "      <td>DEEP GARDEN 100 ML, DEEP GARDEN 100ML, BEACH P...</td>\n",
       "      <td>1.0</td>\n",
       "    </tr>\n",
       "    <tr>\n",
       "      <th>76</th>\n",
       "      <td>METALLIC THREAD CHECK BLANKET</td>\n",
       "      <td>Checked knit blanket with metallic thread deta...</td>\n",
       "      <td>METALLIC THREAD CHECK BLANKET, TEXTURED BLANKE...</td>\n",
       "      <td>1.0</td>\n",
       "    </tr>\n",
       "    <tr>\n",
       "      <th>28</th>\n",
       "      <td>ANIMAL PRINT LEATHER BOOTS</td>\n",
       "      <td>Laceless leather boots with a decorative anima...</td>\n",
       "      <td>ANIMAL PRINT LEATHER BOOTS, ANIMAL PRINT LEATH...</td>\n",
       "      <td>1.0</td>\n",
       "    </tr>\n",
       "    <tr>\n",
       "      <th>69</th>\n",
       "      <td>KNIT JACQUARD SNOOD</td>\n",
       "      <td>Knit snood with jacquard motifs.</td>\n",
       "      <td>KNIT JACQUARD SNOOD, KNITTED SNOOD, JACQUARD K...</td>\n",
       "      <td>1.0</td>\n",
       "    </tr>\n",
       "    <tr>\n",
       "      <th>67</th>\n",
       "      <td>SPIDER-MAN © MARVEL SWEATSHIRT</td>\n",
       "      <td>Long sleeve sweatshirt with a round neckline a...</td>\n",
       "      <td>SPIDER-MAN © MARVEL SWEATSHIRT, SPIDER-MAN © M...</td>\n",
       "      <td>1.0</td>\n",
       "    </tr>\n",
       "    <tr>\n",
       "      <th>61</th>\n",
       "      <td>TECHNICAL CARGO TROUSERS</td>\n",
       "      <td>Trousers made of technical fabric with elastic...</td>\n",
       "      <td>TECHNICAL CARGO TROUSERS, TEXTURED TROUSERS, Q...</td>\n",
       "      <td>1.0</td>\n",
       "    </tr>\n",
       "    <tr>\n",
       "      <th>29</th>\n",
       "      <td>ROUND WOODEN JEWELLERY BOX</td>\n",
       "      <td>Round wooden jewellery box with a mirror insid...</td>\n",
       "      <td>ROUND WOODEN JEWELLERY BOX, LARGE MIRRORED WOR...</td>\n",
       "      <td>1.0</td>\n",
       "    </tr>\n",
       "    <tr>\n",
       "      <th>92</th>\n",
       "      <td>TUBEROSE 10ML</td>\n",
       "      <td>ZARA TUBEROSE EDT 10ML (0.34 FL. OZ). &lt;br/&gt;&lt;br...</td>\n",
       "      <td>TUBEROSE 10ML, TUBEROSE EDT 10 ML / 0.34 OZ, T...</td>\n",
       "      <td>1.0</td>\n",
       "    </tr>\n",
       "    <tr>\n",
       "      <th>37</th>\n",
       "      <td>MICKEY MOUSE ©DISNEY SWEATSHIRT</td>\n",
       "      <td>Sweatshirt with a round neckline, long sleeves...</td>\n",
       "      <td>MICKEY MOUSE ©DISNEY SWEATSHIRT, MICKEY MOUSE ...</td>\n",
       "      <td>1.0</td>\n",
       "    </tr>\n",
       "    <tr>\n",
       "      <th>61</th>\n",
       "      <td>CUIR NUIT CAR AIR FRESHENER</td>\n",
       "      <td>Car air freshener with clip.&lt;br/&gt;&lt;br/&gt;Aroma: C...</td>\n",
       "      <td>CUIR NUIT CAR AIR FRESHENER, CUIRNOFF CAR AIR ...</td>\n",
       "      <td>1.0</td>\n",
       "    </tr>\n",
       "  </tbody>\n",
       "</table>\n",
       "</div>"
      ],
      "text/plain": [
       "                               name  \\\n",
       "11               DEEP GARDEN 100 ML   \n",
       "76    METALLIC THREAD CHECK BLANKET   \n",
       "28       ANIMAL PRINT LEATHER BOOTS   \n",
       "69              KNIT JACQUARD SNOOD   \n",
       "67   SPIDER-MAN © MARVEL SWEATSHIRT   \n",
       "61         TECHNICAL CARGO TROUSERS   \n",
       "29       ROUND WOODEN JEWELLERY BOX   \n",
       "92                    TUBEROSE 10ML   \n",
       "37  MICKEY MOUSE ©DISNEY SWEATSHIRT   \n",
       "61      CUIR NUIT CAR AIR FRESHENER   \n",
       "\n",
       "                                          description  \\\n",
       "11  DEEP GARDEN 100 ML (3.4 FL. OZ). <br/><br/>Eau...   \n",
       "76  Checked knit blanket with metallic thread deta...   \n",
       "28  Laceless leather boots with a decorative anima...   \n",
       "69                   Knit snood with jacquard motifs.   \n",
       "67  Long sleeve sweatshirt with a round neckline a...   \n",
       "61  Trousers made of technical fabric with elastic...   \n",
       "29  Round wooden jewellery box with a mirror insid...   \n",
       "92  ZARA TUBEROSE EDT 10ML (0.34 FL. OZ). <br/><br...   \n",
       "37  Sweatshirt with a round neckline, long sleeves...   \n",
       "61  Car air freshener with clip.<br/><br/>Aroma: C...   \n",
       "\n",
       "                                              answers  score  \n",
       "11  DEEP GARDEN 100 ML, DEEP GARDEN 100ML, BEACH P...    1.0  \n",
       "76  METALLIC THREAD CHECK BLANKET, TEXTURED BLANKE...    1.0  \n",
       "28  ANIMAL PRINT LEATHER BOOTS, ANIMAL PRINT LEATH...    1.0  \n",
       "69  KNIT JACQUARD SNOOD, KNITTED SNOOD, JACQUARD K...    1.0  \n",
       "67  SPIDER-MAN © MARVEL SWEATSHIRT, SPIDER-MAN © M...    1.0  \n",
       "61  TECHNICAL CARGO TROUSERS, TEXTURED TROUSERS, Q...    1.0  \n",
       "29  ROUND WOODEN JEWELLERY BOX, LARGE MIRRORED WOR...    1.0  \n",
       "92  TUBEROSE 10ML, TUBEROSE EDT 10 ML / 0.34 OZ, T...    1.0  \n",
       "37  MICKEY MOUSE ©DISNEY SWEATSHIRT, MICKEY MOUSE ...    1.0  \n",
       "61  CUIR NUIT CAR AIR FRESHENER, CUIRNOFF CAR AIR ...    1.0  "
      ]
     },
     "execution_count": 129,
     "metadata": {},
     "output_type": "execute_result"
    }
   ],
   "source": [
    "model_2_answers.sort_values(by='score', ascending=False).head(10)"
   ]
  },
  {
   "cell_type": "markdown",
   "metadata": {},
   "source": [
    "Worst answers"
   ]
  },
  {
   "cell_type": "code",
   "execution_count": 130,
   "metadata": {},
   "outputs": [
    {
     "data": {
      "text/html": [
       "<div>\n",
       "<style scoped>\n",
       "    .dataframe tbody tr th:only-of-type {\n",
       "        vertical-align: middle;\n",
       "    }\n",
       "\n",
       "    .dataframe tbody tr th {\n",
       "        vertical-align: top;\n",
       "    }\n",
       "\n",
       "    .dataframe thead th {\n",
       "        text-align: right;\n",
       "    }\n",
       "</style>\n",
       "<table border=\"1\" class=\"dataframe\">\n",
       "  <thead>\n",
       "    <tr style=\"text-align: right;\">\n",
       "      <th></th>\n",
       "      <th>name</th>\n",
       "      <th>description</th>\n",
       "      <th>answers</th>\n",
       "      <th>score</th>\n",
       "    </tr>\n",
       "  </thead>\n",
       "  <tbody>\n",
       "    <tr>\n",
       "      <th>0</th>\n",
       "      <td>SMILE T-SHIRT</td>\n",
       "      <td>Long sleeve T-shirt with a round neckline and ...</td>\n",
       "      <td>PRINTED T-SHIRT, FLORAL PRINT T-SHIRT, FOOTBAL...</td>\n",
       "      <td>0.0</td>\n",
       "    </tr>\n",
       "    <tr>\n",
       "      <th>62</th>\n",
       "      <td>JACQUARD BLAZER</td>\n",
       "      <td>Blazer with a round collar and long sleeves. F...</td>\n",
       "      <td>FAUX LEATHER BLAZER, TAFFETA CHECK SUIT BLAZER...</td>\n",
       "      <td>0.0</td>\n",
       "    </tr>\n",
       "    <tr>\n",
       "      <th>63</th>\n",
       "      <td>TRAVELER SUIT TROUSERS</td>\n",
       "      <td>Trousers made of textured bi-stretch, easy-to-...</td>\n",
       "      <td>EASY-TO-IRON TECHNICAL TROUSERS, SLIM FIT TROU...</td>\n",
       "      <td>0.0</td>\n",
       "    </tr>\n",
       "    <tr>\n",
       "      <th>64</th>\n",
       "      <td>FAMILY T-SHIRT</td>\n",
       "      <td>Short sleeve T-shirt with a round neck and slo...</td>\n",
       "      <td>ANIMAL PRINT STRIPE T-SHIRT, LONGLINE SLOGAN T...</td>\n",
       "      <td>0.0</td>\n",
       "    </tr>\n",
       "    <tr>\n",
       "      <th>65</th>\n",
       "      <td>SPARKLY DRESS</td>\n",
       "      <td>Dress featuring a straight neckline and ruffle...</td>\n",
       "      <td>RUFFLED SHIRT DRESS, SHINY TEXTURED DRESS WITH...</td>\n",
       "      <td>0.0</td>\n",
       "    </tr>\n",
       "    <tr>\n",
       "      <th>66</th>\n",
       "      <td>POPLIN TOP WITH CUTWORK EMBROIDERY TRF</td>\n",
       "      <td>Crop top with a wide straight neckline and sho...</td>\n",
       "      <td>LACE ORGANZA TOP, CUT OUT MINI CROP TOP, PRINT...</td>\n",
       "      <td>0.0</td>\n",
       "    </tr>\n",
       "    <tr>\n",
       "      <th>68</th>\n",
       "      <td>STRIPE PRINT TOP</td>\n",
       "      <td>Top with an adjustable buttoned high neck, lon...</td>\n",
       "      <td>FAUX LEATHER TOP, PLEATED TOP, ORGANZA PRINT T...</td>\n",
       "      <td>0.0</td>\n",
       "    </tr>\n",
       "    <tr>\n",
       "      <th>69</th>\n",
       "      <td>FUR CUSHION COVER</td>\n",
       "      <td>Faux fur cushion cover. Cushion filling not in...</td>\n",
       "      <td>FAUX FUR QUILDREN'S CUSHION COVER, FAUX FUR CU...</td>\n",
       "      <td>0.0</td>\n",
       "    </tr>\n",
       "    <tr>\n",
       "      <th>70</th>\n",
       "      <td>PRINTED MIDI DRESS TRF</td>\n",
       "      <td>Dress with a round neck and long sleeves. Feat...</td>\n",
       "      <td>PLEATED DRESS, SATEEN DRESS TRF, CHECK DRESS, ...</td>\n",
       "      <td>0.0</td>\n",
       "    </tr>\n",
       "    <tr>\n",
       "      <th>60</th>\n",
       "      <td>SUEDE FLAT MULES WITH JUTE SOLE</td>\n",
       "      <td>Sand-coloured leather flat mules. Split suede ...</td>\n",
       "      <td>SQUARE-TOE LEATHER SHOES/SUEDE HEEL SHOT, LEAT...</td>\n",
       "      <td>0.0</td>\n",
       "    </tr>\n",
       "  </tbody>\n",
       "</table>\n",
       "</div>"
      ],
      "text/plain": [
       "                                      name  \\\n",
       "0                            SMILE T-SHIRT   \n",
       "62                         JACQUARD BLAZER   \n",
       "63                  TRAVELER SUIT TROUSERS   \n",
       "64                          FAMILY T-SHIRT   \n",
       "65                           SPARKLY DRESS   \n",
       "66  POPLIN TOP WITH CUTWORK EMBROIDERY TRF   \n",
       "68                        STRIPE PRINT TOP   \n",
       "69                       FUR CUSHION COVER   \n",
       "70                  PRINTED MIDI DRESS TRF   \n",
       "60         SUEDE FLAT MULES WITH JUTE SOLE   \n",
       "\n",
       "                                          description  \\\n",
       "0   Long sleeve T-shirt with a round neckline and ...   \n",
       "62  Blazer with a round collar and long sleeves. F...   \n",
       "63  Trousers made of textured bi-stretch, easy-to-...   \n",
       "64  Short sleeve T-shirt with a round neck and slo...   \n",
       "65  Dress featuring a straight neckline and ruffle...   \n",
       "66  Crop top with a wide straight neckline and sho...   \n",
       "68  Top with an adjustable buttoned high neck, lon...   \n",
       "69  Faux fur cushion cover. Cushion filling not in...   \n",
       "70  Dress with a round neck and long sleeves. Feat...   \n",
       "60  Sand-coloured leather flat mules. Split suede ...   \n",
       "\n",
       "                                              answers  score  \n",
       "0   PRINTED T-SHIRT, FLORAL PRINT T-SHIRT, FOOTBAL...    0.0  \n",
       "62  FAUX LEATHER BLAZER, TAFFETA CHECK SUIT BLAZER...    0.0  \n",
       "63  EASY-TO-IRON TECHNICAL TROUSERS, SLIM FIT TROU...    0.0  \n",
       "64  ANIMAL PRINT STRIPE T-SHIRT, LONGLINE SLOGAN T...    0.0  \n",
       "65  RUFFLED SHIRT DRESS, SHINY TEXTURED DRESS WITH...    0.0  \n",
       "66  LACE ORGANZA TOP, CUT OUT MINI CROP TOP, PRINT...    0.0  \n",
       "68  FAUX LEATHER TOP, PLEATED TOP, ORGANZA PRINT T...    0.0  \n",
       "69  FAUX FUR QUILDREN'S CUSHION COVER, FAUX FUR CU...    0.0  \n",
       "70  PLEATED DRESS, SATEEN DRESS TRF, CHECK DRESS, ...    0.0  \n",
       "60  SQUARE-TOE LEATHER SHOES/SUEDE HEEL SHOT, LEAT...    0.0  "
      ]
     },
     "execution_count": 130,
     "metadata": {},
     "output_type": "execute_result"
    }
   ],
   "source": [
    "model_2_answers.sort_values(by='score').head(10)"
   ]
  },
  {
   "cell_type": "markdown",
   "metadata": {},
   "source": [
    "Tested maximum potential:"
   ]
  },
  {
   "cell_type": "code",
   "execution_count": 132,
   "metadata": {},
   "outputs": [
    {
     "data": {
      "text/plain": [
       "0.58"
      ]
     },
     "execution_count": 132,
     "metadata": {},
     "output_type": "execute_result"
    }
   ],
   "source": [
    "model_potential(model_2_1_answers)"
   ]
  },
  {
   "cell_type": "markdown",
   "metadata": {},
   "source": [
    "Tested score of unsorted answers:"
   ]
  },
  {
   "cell_type": "code",
   "execution_count": 133,
   "metadata": {},
   "outputs": [
    {
     "data": {
      "text/plain": [
       "0.28589791720475805"
      ]
     },
     "execution_count": 133,
     "metadata": {},
     "output_type": "execute_result"
    }
   ],
   "source": [
    "model_2_1_score"
   ]
  }
 ],
 "metadata": {
  "kernelspec": {
   "display_name": "gpt-2-simple",
   "language": "python",
   "name": "gpt-2-simple"
  },
  "language_info": {
   "codemirror_mode": {
    "name": "ipython",
    "version": 3
   },
   "file_extension": ".py",
   "mimetype": "text/x-python",
   "name": "python",
   "nbconvert_exporter": "python",
   "pygments_lexer": "ipython3",
   "version": "3.7.8"
  }
 },
 "nbformat": 4,
 "nbformat_minor": 4
}
