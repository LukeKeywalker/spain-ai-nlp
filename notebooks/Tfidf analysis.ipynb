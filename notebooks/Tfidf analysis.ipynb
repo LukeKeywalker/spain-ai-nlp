{
 "cells": [
  {
   "cell_type": "code",
   "execution_count": 13,
   "metadata": {},
   "outputs": [],
   "source": [
    "import dataset_utils\n",
    "import nltk\n",
    "import re\n",
    "import numpy as np\n",
    "import pandas as pd\n",
    "\n",
    "from sklearn.feature_extraction.text import TfidfVectorizer\n",
    "from nltk.stem.porter import PorterStemmer\n",
    "from sklearn.feature_extraction.text import TfidfTransformer\n",
    "from sklearn.feature_extraction.text import CountVectorizer\n",
    "from sklearn.pipeline import Pipeline"
   ]
  },
  {
   "cell_type": "code",
   "execution_count": 14,
   "metadata": {},
   "outputs": [],
   "source": [
    "import sys  \n",
    "sys.path.insert(0, 'C:\\\\Users\\\\ARosa\\\\Documents\\\\spain-ai-nlp')\n",
    "\n",
    "from sorting_utils import *\n",
    "import dataset_utils"
   ]
  },
  {
   "cell_type": "code",
   "execution_count": 15,
   "metadata": {},
   "outputs": [],
   "source": [
    "def tokenize(text):\n",
    "    words = re.sub(r\"[^A-Za-z0-9\\-]\", \" \", text).lower().split()\n",
    "    porter_stemmer=nltk.PorterStemmer()\n",
    "    words = [porter_stemmer.stem(word) for word in words]\n",
    "    return words"
   ]
  },
  {
   "cell_type": "code",
   "execution_count": 16,
   "metadata": {},
   "outputs": [],
   "source": [
    "# method to get the corpus from the dataframe\n",
    "def get_corpus(df):\n",
    "    \"\"\"\n",
    "    Compute the text corpus from the dataframe after completing\n",
    "    a full clearning process, removing all except alphanumeric text\n",
    "    \"\"\"\n",
    "    corpus = []\n",
    "    for index, row in df.iterrows():\n",
    "        corpus.append(clean_and_tokenize(row['name'].lower()))\n",
    "        corpus.append(clean_and_tokenize(row['description'].lower()))\n",
    "    #corpus = ' '.join(corpus)\n",
    "    return corpus"
   ]
  },
  {
   "cell_type": "code",
   "execution_count": 17,
   "metadata": {},
   "outputs": [],
   "source": [
    "def get_corpus2(df):\n",
    "    \"\"\"\n",
    "    Compute the text corpus from the dataframe after completing\n",
    "    a soft clearning process, just removing extra whitespaces and html tags\n",
    "    \"\"\"\n",
    "    corpus = []\n",
    "    for index, row in df.iterrows():\n",
    "        corpus.append(dataset_utils.sanitize_input(row['name'].lower()))\n",
    "        corpus.append(dataset_utils.sanitize_input(row['description'].lower()))\n",
    "    #corpus = ' '.join(corpus)\n",
    "    return corpus"
   ]
  },
  {
   "cell_type": "code",
   "execution_count": 52,
   "metadata": {},
   "outputs": [
    {
     "data": {
      "text/html": [
       "<div>\n",
       "<style scoped>\n",
       "    .dataframe tbody tr th:only-of-type {\n",
       "        vertical-align: middle;\n",
       "    }\n",
       "\n",
       "    .dataframe tbody tr th {\n",
       "        vertical-align: top;\n",
       "    }\n",
       "\n",
       "    .dataframe thead th {\n",
       "        text-align: right;\n",
       "    }\n",
       "</style>\n",
       "<table border=\"1\" class=\"dataframe\">\n",
       "  <thead>\n",
       "    <tr style=\"text-align: right;\">\n",
       "      <th></th>\n",
       "      <th>name</th>\n",
       "      <th>description</th>\n",
       "    </tr>\n",
       "  </thead>\n",
       "  <tbody>\n",
       "    <tr>\n",
       "      <th>1</th>\n",
       "      <td>CROPPED JACKET TRF</td>\n",
       "      <td>Jacket made of a technical fabric with texture...</td>\n",
       "    </tr>\n",
       "    <tr>\n",
       "      <th>2</th>\n",
       "      <td>OVERSIZED SHIRT WITH POCKET TRF</td>\n",
       "      <td>Oversized long sleeve shirt with a round colla...</td>\n",
       "    </tr>\n",
       "    <tr>\n",
       "      <th>3</th>\n",
       "      <td>TECHNICAL TROUSERS TRF</td>\n",
       "      <td>High-waist trousers with a matching elastic wa...</td>\n",
       "    </tr>\n",
       "    <tr>\n",
       "      <th>4</th>\n",
       "      <td>SHIRT DRESS</td>\n",
       "      <td>Collared dress featuring sleeves falling below...</td>\n",
       "    </tr>\n",
       "    <tr>\n",
       "      <th>5</th>\n",
       "      <td>PUFF SLEEVE DRESS WITH PLEATS TRF</td>\n",
       "      <td>Loose-fitting midi dress with a round neckline...</td>\n",
       "    </tr>\n",
       "  </tbody>\n",
       "</table>\n",
       "</div>"
      ],
      "text/plain": [
       "                                name  \\\n",
       "1                 CROPPED JACKET TRF   \n",
       "2    OVERSIZED SHIRT WITH POCKET TRF   \n",
       "3             TECHNICAL TROUSERS TRF   \n",
       "4                        SHIRT DRESS   \n",
       "5  PUFF SLEEVE DRESS WITH PLEATS TRF   \n",
       "\n",
       "                                         description  \n",
       "1  Jacket made of a technical fabric with texture...  \n",
       "2  Oversized long sleeve shirt with a round colla...  \n",
       "3  High-waist trousers with a matching elastic wa...  \n",
       "4  Collared dress featuring sleeves falling below...  \n",
       "5  Loose-fitting midi dress with a round neckline...  "
      ]
     },
     "execution_count": 52,
     "metadata": {},
     "output_type": "execute_result"
    }
   ],
   "source": [
    "column_names = ['name', 'description']\n",
    "train_data = pd.read_csv('../data/train.csv', names=column_names, header=None)[1:]\n",
    "train_data.head()"
   ]
  },
  {
   "cell_type": "markdown",
   "metadata": {},
   "source": [
    "Let´s use first the more pruned corpus"
   ]
  },
  {
   "cell_type": "code",
   "execution_count": 19,
   "metadata": {},
   "outputs": [
    {
     "name": "stdout",
     "output_type": "stream",
     "text": [
      "67226\n"
     ]
    }
   ],
   "source": [
    "corpus = get_corpus(train_data)\n",
    "print(len(corpus))"
   ]
  },
  {
   "cell_type": "code",
   "execution_count": null,
   "metadata": {},
   "outputs": [],
   "source": []
  },
  {
   "cell_type": "markdown",
   "metadata": {},
   "source": [
    "# Method 1: using CountVectorizer"
   ]
  },
  {
   "cell_type": "code",
   "execution_count": 20,
   "metadata": {},
   "outputs": [
    {
     "data": {
      "text/plain": [
       "(67226, 7819)"
      ]
     },
     "execution_count": 20,
     "metadata": {},
     "output_type": "execute_result"
    }
   ],
   "source": [
    "cv=CountVectorizer()\n",
    "word_count_vector=cv.fit_transform(corpus)\n",
    "word_count_vector.shape"
   ]
  },
  {
   "cell_type": "code",
   "execution_count": 21,
   "metadata": {},
   "outputs": [
    {
     "data": {
      "text/plain": [
       "TfidfTransformer(norm='l2', smooth_idf=True, sublinear_tf=False, use_idf=True)"
      ]
     },
     "execution_count": 21,
     "metadata": {},
     "output_type": "execute_result"
    }
   ],
   "source": [
    "tfidf_transformer=TfidfTransformer(smooth_idf=True,use_idf=True) \n",
    "tfidf_transformer.fit(word_count_vector)"
   ]
  },
  {
   "cell_type": "code",
   "execution_count": 22,
   "metadata": {},
   "outputs": [
    {
     "data": {
      "text/html": [
       "<div>\n",
       "<style scoped>\n",
       "    .dataframe tbody tr th:only-of-type {\n",
       "        vertical-align: middle;\n",
       "    }\n",
       "\n",
       "    .dataframe tbody tr th {\n",
       "        vertical-align: top;\n",
       "    }\n",
       "\n",
       "    .dataframe thead th {\n",
       "        text-align: right;\n",
       "    }\n",
       "</style>\n",
       "<table border=\"1\" class=\"dataframe\">\n",
       "  <thead>\n",
       "    <tr style=\"text-align: right;\">\n",
       "      <th></th>\n",
       "      <th>idf_weights</th>\n",
       "    </tr>\n",
       "  </thead>\n",
       "  <tbody>\n",
       "    <tr>\n",
       "      <th>with</th>\n",
       "      <td>1.682803</td>\n",
       "    </tr>\n",
       "    <tr>\n",
       "      <th>and</th>\n",
       "      <td>2.030730</td>\n",
       "    </tr>\n",
       "    <tr>\n",
       "      <th>the</th>\n",
       "      <td>2.547326</td>\n",
       "    </tr>\n",
       "    <tr>\n",
       "      <th>front</th>\n",
       "      <td>2.685391</td>\n",
       "    </tr>\n",
       "    <tr>\n",
       "      <th>of</th>\n",
       "      <td>2.760784</td>\n",
       "    </tr>\n",
       "    <tr>\n",
       "      <th>...</th>\n",
       "      <td>...</td>\n",
       "    </tr>\n",
       "    <tr>\n",
       "      <th>payment</th>\n",
       "      <td>11.422683</td>\n",
       "    </tr>\n",
       "    <tr>\n",
       "      <th>peacefully</th>\n",
       "      <td>11.422683</td>\n",
       "    </tr>\n",
       "    <tr>\n",
       "      <th>bygone</th>\n",
       "      <td>11.422683</td>\n",
       "    </tr>\n",
       "    <tr>\n",
       "      <th>patchouliinstructions</th>\n",
       "      <td>11.422683</td>\n",
       "    </tr>\n",
       "    <tr>\n",
       "      <th>zw1975</th>\n",
       "      <td>11.422683</td>\n",
       "    </tr>\n",
       "  </tbody>\n",
       "</table>\n",
       "<p>7819 rows × 1 columns</p>\n",
       "</div>"
      ],
      "text/plain": [
       "                       idf_weights\n",
       "with                      1.682803\n",
       "and                       2.030730\n",
       "the                       2.547326\n",
       "front                     2.685391\n",
       "of                        2.760784\n",
       "...                            ...\n",
       "payment                  11.422683\n",
       "peacefully               11.422683\n",
       "bygone                   11.422683\n",
       "patchouliinstructions    11.422683\n",
       "zw1975                   11.422683\n",
       "\n",
       "[7819 rows x 1 columns]"
      ]
     },
     "execution_count": 22,
     "metadata": {},
     "output_type": "execute_result"
    }
   ],
   "source": [
    "# print idf values \n",
    "df_idf = pd.DataFrame(tfidf_transformer.idf_, index=cv.get_feature_names(),columns=[\"idf_weights\"]) \n",
    " \n",
    "# sort ascending \n",
    "df_idf.sort_values(by=['idf_weights'])"
   ]
  },
  {
   "cell_type": "code",
   "execution_count": 46,
   "metadata": {},
   "outputs": [
    {
     "data": {
      "text/html": [
       "<div>\n",
       "<style scoped>\n",
       "    .dataframe tbody tr th:only-of-type {\n",
       "        vertical-align: middle;\n",
       "    }\n",
       "\n",
       "    .dataframe tbody tr th {\n",
       "        vertical-align: top;\n",
       "    }\n",
       "\n",
       "    .dataframe thead th {\n",
       "        text-align: right;\n",
       "    }\n",
       "</style>\n",
       "<table border=\"1\" class=\"dataframe\">\n",
       "  <thead>\n",
       "    <tr style=\"text-align: right;\">\n",
       "      <th></th>\n",
       "      <th>tfidf</th>\n",
       "    </tr>\n",
       "  </thead>\n",
       "  <tbody>\n",
       "    <tr>\n",
       "      <th>floral</th>\n",
       "      <td>0.581224</td>\n",
       "    </tr>\n",
       "    <tr>\n",
       "      <th>trf</th>\n",
       "      <td>0.529517</td>\n",
       "    </tr>\n",
       "    <tr>\n",
       "      <th>dress</th>\n",
       "      <td>0.456109</td>\n",
       "    </tr>\n",
       "    <tr>\n",
       "      <th>print</th>\n",
       "      <td>0.416838</td>\n",
       "    </tr>\n",
       "    <tr>\n",
       "      <th>00</th>\n",
       "      <td>0.000000</td>\n",
       "    </tr>\n",
       "    <tr>\n",
       "      <th>...</th>\n",
       "      <td>...</td>\n",
       "    </tr>\n",
       "    <tr>\n",
       "      <th>era</th>\n",
       "      <td>0.000000</td>\n",
       "    </tr>\n",
       "    <tr>\n",
       "      <th>equivalency</th>\n",
       "      <td>0.000000</td>\n",
       "    </tr>\n",
       "    <tr>\n",
       "      <th>equipped</th>\n",
       "      <td>0.000000</td>\n",
       "    </tr>\n",
       "    <tr>\n",
       "      <th>equipment</th>\n",
       "      <td>0.000000</td>\n",
       "    </tr>\n",
       "    <tr>\n",
       "      <th>zw1975</th>\n",
       "      <td>0.000000</td>\n",
       "    </tr>\n",
       "  </tbody>\n",
       "</table>\n",
       "<p>7819 rows × 1 columns</p>\n",
       "</div>"
      ],
      "text/plain": [
       "                tfidf\n",
       "floral       0.581224\n",
       "trf          0.529517\n",
       "dress        0.456109\n",
       "print        0.416838\n",
       "00           0.000000\n",
       "...               ...\n",
       "era          0.000000\n",
       "equivalency  0.000000\n",
       "equipped     0.000000\n",
       "equipment    0.000000\n",
       "zw1975       0.000000\n",
       "\n",
       "[7819 rows x 1 columns]"
      ]
     },
     "execution_count": 46,
     "metadata": {},
     "output_type": "execute_result"
    }
   ],
   "source": [
    "# count matrix \n",
    "count_vector=cv.transform(corpus) \n",
    " \n",
    "# tf-idf scores \n",
    "tf_idf_vector=tfidf_transformer.transform(count_vector)\n",
    "\n",
    "#get tfidf vector for the nth document \n",
    "n_document_vector=tf_idf_vector[10] \n",
    " \n",
    "#print the scores \n",
    "df = pd.DataFrame(n_document_vector.T.todense(), \n",
    "                      index=cv.get_feature_names(), \n",
    "                      columns=[\"tfidf\"]) \n",
    "df.sort_values(by=[\"tfidf\"],ascending=False)"
   ]
  },
  {
   "cell_type": "markdown",
   "metadata": {},
   "source": [
    "# Method 2: Using Tfidf_vectorizer"
   ]
  },
  {
   "cell_type": "markdown",
   "metadata": {},
   "source": [
    "Performing the same analysis but using the Tfidf_vectorizer"
   ]
  },
  {
   "cell_type": "code",
   "execution_count": 25,
   "metadata": {},
   "outputs": [],
   "source": [
    "tfidf = TfidfVectorizer(tokenizer=tokenize, stop_words='english')\n",
    "tfidf_vectors = tfidf.fit_transform(corpus)\n",
    "feature_names = tfidf.get_feature_names()"
   ]
  },
  {
   "cell_type": "code",
   "execution_count": 27,
   "metadata": {},
   "outputs": [
    {
     "data": {
      "text/html": [
       "<div>\n",
       "<style scoped>\n",
       "    .dataframe tbody tr th:only-of-type {\n",
       "        vertical-align: middle;\n",
       "    }\n",
       "\n",
       "    .dataframe tbody tr th {\n",
       "        vertical-align: top;\n",
       "    }\n",
       "\n",
       "    .dataframe thead th {\n",
       "        text-align: right;\n",
       "    }\n",
       "</style>\n",
       "<table border=\"1\" class=\"dataframe\">\n",
       "  <thead>\n",
       "    <tr style=\"text-align: right;\">\n",
       "      <th></th>\n",
       "      <th>tfidf</th>\n",
       "    </tr>\n",
       "  </thead>\n",
       "  <tbody>\n",
       "    <tr>\n",
       "      <th>crop</th>\n",
       "      <td>0.626230</td>\n",
       "    </tr>\n",
       "    <tr>\n",
       "      <th>jacket</th>\n",
       "      <td>0.569223</td>\n",
       "    </tr>\n",
       "    <tr>\n",
       "      <th>trf</th>\n",
       "      <td>0.532749</td>\n",
       "    </tr>\n",
       "    <tr>\n",
       "      <th>-</th>\n",
       "      <td>0.000000</td>\n",
       "    </tr>\n",
       "    <tr>\n",
       "      <th>penguin</th>\n",
       "      <td>0.000000</td>\n",
       "    </tr>\n",
       "    <tr>\n",
       "      <th>...</th>\n",
       "      <td>...</td>\n",
       "    </tr>\n",
       "    <tr>\n",
       "      <th>embroid</th>\n",
       "      <td>0.000000</td>\n",
       "    </tr>\n",
       "    <tr>\n",
       "      <th>embrac</th>\n",
       "      <td>0.000000</td>\n",
       "    </tr>\n",
       "    <tr>\n",
       "      <th>embossed-effect</th>\n",
       "      <td>0.000000</td>\n",
       "    </tr>\n",
       "    <tr>\n",
       "      <th>emboss</th>\n",
       "      <td>0.000000</td>\n",
       "    </tr>\n",
       "    <tr>\n",
       "      <th>zw1975</th>\n",
       "      <td>0.000000</td>\n",
       "    </tr>\n",
       "  </tbody>\n",
       "</table>\n",
       "<p>6886 rows × 1 columns</p>\n",
       "</div>"
      ],
      "text/plain": [
       "                    tfidf\n",
       "crop             0.626230\n",
       "jacket           0.569223\n",
       "trf              0.532749\n",
       "-                0.000000\n",
       "penguin          0.000000\n",
       "...                   ...\n",
       "embroid          0.000000\n",
       "embrac           0.000000\n",
       "embossed-effect  0.000000\n",
       "emboss           0.000000\n",
       "zw1975           0.000000\n",
       "\n",
       "[6886 rows x 1 columns]"
      ]
     },
     "execution_count": 27,
     "metadata": {},
     "output_type": "execute_result"
    }
   ],
   "source": [
    "# get the first vector out (for the first document) \n",
    "first_vector_tfidfvectorizer=tfidf_vectors[0] \n",
    " \n",
    "# place tf-idf values in a pandas data frame \n",
    "df = pd.DataFrame(first_vector_tfidfvectorizer.T.todense(), index=feature_names, \n",
    "                  columns=[\"tfidf\"]) \n",
    "df.sort_values(by=[\"tfidf\"],ascending=False)"
   ]
  },
  {
   "cell_type": "markdown",
   "metadata": {},
   "source": [
    "This is the tfidf vector of the first document in the training data, which defines the words with higher frequency and more relevance in the document. We can use the tfidf score to evaluate the words of an answer, if we use the testing text as a corpus to train the vectorizer."
   ]
  },
  {
   "cell_type": "markdown",
   "metadata": {},
   "source": [
    "# Analyzing test data"
   ]
  },
  {
   "cell_type": "code",
   "execution_count": 53,
   "metadata": {},
   "outputs": [
    {
     "data": {
      "text/html": [
       "<div>\n",
       "<style scoped>\n",
       "    .dataframe tbody tr th:only-of-type {\n",
       "        vertical-align: middle;\n",
       "    }\n",
       "\n",
       "    .dataframe tbody tr th {\n",
       "        vertical-align: top;\n",
       "    }\n",
       "\n",
       "    .dataframe thead th {\n",
       "        text-align: right;\n",
       "    }\n",
       "</style>\n",
       "<table border=\"1\" class=\"dataframe\">\n",
       "  <thead>\n",
       "    <tr style=\"text-align: right;\">\n",
       "      <th></th>\n",
       "      <th>description</th>\n",
       "    </tr>\n",
       "  </thead>\n",
       "  <tbody>\n",
       "    <tr>\n",
       "      <th>1</th>\n",
       "      <td>Knit midi dress with a V-neckline, straps and ...</td>\n",
       "    </tr>\n",
       "    <tr>\n",
       "      <th>2</th>\n",
       "      <td>Loose-fitting dress with a round neckline, lon...</td>\n",
       "    </tr>\n",
       "    <tr>\n",
       "      <th>3</th>\n",
       "      <td>Nautical cap with peak.&lt;br/&gt;&lt;br/&gt;This item mus...</td>\n",
       "    </tr>\n",
       "    <tr>\n",
       "      <th>4</th>\n",
       "      <td>Nautical cap with peak. Adjustable inner strap...</td>\n",
       "    </tr>\n",
       "    <tr>\n",
       "      <th>5</th>\n",
       "      <td>Nautical cap with side button detail.&lt;br/&gt;&lt;br/...</td>\n",
       "    </tr>\n",
       "  </tbody>\n",
       "</table>\n",
       "</div>"
      ],
      "text/plain": [
       "                                         description\n",
       "1  Knit midi dress with a V-neckline, straps and ...\n",
       "2  Loose-fitting dress with a round neckline, lon...\n",
       "3  Nautical cap with peak.<br/><br/>This item mus...\n",
       "4  Nautical cap with peak. Adjustable inner strap...\n",
       "5  Nautical cap with side button detail.<br/><br/..."
      ]
     },
     "execution_count": 53,
     "metadata": {},
     "output_type": "execute_result"
    }
   ],
   "source": [
    "column_names = ['description']\n",
    "test_data = pd.read_csv('../data/test_descriptions.csv', names=column_names, header=None)[1:]\n",
    "test_data.head()"
   ]
  },
  {
   "cell_type": "code",
   "execution_count": 54,
   "metadata": {},
   "outputs": [],
   "source": [
    "# method to get the corpus from the dataframe\n",
    "def get_corpus3(df):\n",
    "    \"\"\"\n",
    "    Compute the text corpus from the dataframe after completing\n",
    "    a full clearning process, removing all except alphanumeric text\n",
    "    \"\"\"\n",
    "    corpus = []\n",
    "    for index, row in df.iterrows():\n",
    "        corpus.append(clean_and_tokenize(row['description'].lower()))\n",
    "    #corpus = ' '.join(corpus)\n",
    "    return corpus"
   ]
  },
  {
   "cell_type": "code",
   "execution_count": 55,
   "metadata": {},
   "outputs": [
    {
     "name": "stdout",
     "output_type": "stream",
     "text": [
      "1441\n"
     ]
    }
   ],
   "source": [
    "corpus = get_corpus3(test_data)\n",
    "print(len(corpus))"
   ]
  },
  {
   "cell_type": "markdown",
   "metadata": {},
   "source": [
    "We have 1441 documents, our answers document should have the same length."
   ]
  },
  {
   "cell_type": "code",
   "execution_count": 58,
   "metadata": {},
   "outputs": [
    {
     "name": "stderr",
     "output_type": "stream",
     "text": [
      "C:\\Users\\ARosa\\Miniconda3\\lib\\site-packages\\sklearn\\feature_extraction\\text.py:385: UserWarning: Your stop_words may be inconsistent with your preprocessing. Tokenizing the stop words generated tokens ['abov', 'afterward', 'alon', 'alreadi', 'alway', 'ani', 'anoth', 'anyon', 'anyth', 'anywher', 'becam', 'becaus', 'becom', 'befor', 'besid', 'cri', 'describ', 'dure', 'els', 'elsewher', 'empti', 'everi', 'everyon', 'everyth', 'everywher', 'fifti', 'formerli', 'forti', 'ha', 'henc', 'hereaft', 'herebi', 'hi', 'howev', 'hundr', 'inde', 'latterli', 'mani', 'meanwhil', 'moreov', 'mostli', 'nobodi', 'noon', 'noth', 'nowher', 'onc', 'onli', 'otherwis', 'ourselv', 'perhap', 'pleas', 'seriou', 'sever', 'sinc', 'sincer', 'sixti', 'someon', 'someth', 'sometim', 'somewher', 'themselv', 'thenc', 'thereaft', 'therebi', 'therefor', 'thi', 'thu', 'togeth', 'twelv', 'twenti', 'veri', 'wa', 'whatev', 'whenc', 'whenev', 'wherea', 'whereaft', 'wherebi', 'wherev', 'whi', 'yourselv'] not in stop_words.\n",
      "  'stop_words.' % sorted(inconsistent))\n"
     ]
    },
    {
     "data": {
      "text/html": [
       "<div>\n",
       "<style scoped>\n",
       "    .dataframe tbody tr th:only-of-type {\n",
       "        vertical-align: middle;\n",
       "    }\n",
       "\n",
       "    .dataframe tbody tr th {\n",
       "        vertical-align: top;\n",
       "    }\n",
       "\n",
       "    .dataframe thead th {\n",
       "        text-align: right;\n",
       "    }\n",
       "</style>\n",
       "<table border=\"1\" class=\"dataframe\">\n",
       "  <thead>\n",
       "    <tr style=\"text-align: right;\">\n",
       "      <th></th>\n",
       "      <th>tfidf</th>\n",
       "    </tr>\n",
       "  </thead>\n",
       "  <tbody>\n",
       "    <tr>\n",
       "      <th>midi</th>\n",
       "      <td>0.451433</td>\n",
       "    </tr>\n",
       "    <tr>\n",
       "      <th>v-necklin</th>\n",
       "      <td>0.386010</td>\n",
       "    </tr>\n",
       "    <tr>\n",
       "      <th>dress</th>\n",
       "      <td>0.314312</td>\n",
       "    </tr>\n",
       "    <tr>\n",
       "      <th>knit</th>\n",
       "      <td>0.314312</td>\n",
       "    </tr>\n",
       "    <tr>\n",
       "      <th>match</th>\n",
       "      <td>0.314312</td>\n",
       "    </tr>\n",
       "    <tr>\n",
       "      <th>...</th>\n",
       "      <td>...</td>\n",
       "    </tr>\n",
       "    <tr>\n",
       "      <th>eyestay</th>\n",
       "      <td>0.000000</td>\n",
       "    </tr>\n",
       "    <tr>\n",
       "      <th>eyelet</th>\n",
       "      <td>0.000000</td>\n",
       "    </tr>\n",
       "    <tr>\n",
       "      <th>eye</th>\n",
       "      <td>0.000000</td>\n",
       "    </tr>\n",
       "    <tr>\n",
       "      <th>extralight</th>\n",
       "      <td>0.000000</td>\n",
       "    </tr>\n",
       "    <tr>\n",
       "      <th>zip-up</th>\n",
       "      <td>0.000000</td>\n",
       "    </tr>\n",
       "  </tbody>\n",
       "</table>\n",
       "<p>1693 rows × 1 columns</p>\n",
       "</div>"
      ],
      "text/plain": [
       "               tfidf\n",
       "midi        0.451433\n",
       "v-necklin   0.386010\n",
       "dress       0.314312\n",
       "knit        0.314312\n",
       "match       0.314312\n",
       "...              ...\n",
       "eyestay     0.000000\n",
       "eyelet      0.000000\n",
       "eye         0.000000\n",
       "extralight  0.000000\n",
       "zip-up      0.000000\n",
       "\n",
       "[1693 rows x 1 columns]"
      ]
     },
     "execution_count": 58,
     "metadata": {},
     "output_type": "execute_result"
    }
   ],
   "source": [
    "tfidf = TfidfVectorizer(tokenizer=tokenize, stop_words='english')\n",
    "tfidf_vectors = tfidf.fit_transform(corpus)\n",
    "feature_names = tfidf.get_feature_names()\n",
    "# get the first vector out (for the first document) \n",
    "first_vector_tfidfvectorizer=tfidf_vectors[0] \n",
    " \n",
    "# place tf-idf values in a pandas data frame \n",
    "df0 = pd.DataFrame(first_vector_tfidfvectorizer.T.todense(), index=feature_names, \n",
    "                  columns=[\"tfidf\"]) \n",
    "df0 = df0.sort_values(by=[\"tfidf\"],ascending=False)\n",
    "df0"
   ]
  },
  {
   "cell_type": "code",
   "execution_count": 80,
   "metadata": {},
   "outputs": [
    {
     "data": {
      "text/plain": [
       "['midi',\n",
       " 'v-necklin',\n",
       " 'dress',\n",
       " 'knit',\n",
       " 'match',\n",
       " '69',\n",
       " 'lace',\n",
       " '177',\n",
       " 'model',\n",
       " '6']"
      ]
     },
     "execution_count": 80,
     "metadata": {},
     "output_type": "execute_result"
    }
   ],
   "source": [
    "df0.tfidf[:10].index.values.tolist()"
   ]
  },
  {
   "cell_type": "code",
   "execution_count": null,
   "metadata": {},
   "outputs": [],
   "source": []
  },
  {
   "cell_type": "markdown",
   "metadata": {},
   "source": [
    "We are going to build a dataframe with the same length as the number of documents and for each document we will give a list of the relevant words, taking the top 10 words. "
   ]
  },
  {
   "cell_type": "code",
   "execution_count": 82,
   "metadata": {},
   "outputs": [],
   "source": [
    "top_words = pd.DataFrame(columns=[\"top_words\"], index = range(len(corpus)))\n",
    "for i in range(len(corpus)):\n",
    "    i_vector_tfidfvectorizer=tfidf_vectors[i]\n",
    "    dfi = pd.DataFrame(i_vector_tfidfvectorizer.T.todense(), index=feature_names, \n",
    "                  columns=[\"tfidf\"]) \n",
    "    dfi = dfi.sort_values(by=[\"tfidf\"],ascending=False)\n",
    "    top_words.loc[i] = [dfi.tfidf[:10].index.values.tolist()]"
   ]
  },
  {
   "cell_type": "code",
   "execution_count": 85,
   "metadata": {},
   "outputs": [
    {
     "name": "stderr",
     "output_type": "stream",
     "text": [
      "C:\\Users\\ARosa\\Miniconda3\\lib\\site-packages\\ipykernel_launcher.py:1: FutureWarning: Passing a negative integer is deprecated in version 1.0 and will not be supported in future version. Instead, use None to not limit the column width.\n",
      "  \"\"\"Entry point for launching an IPython kernel.\n"
     ]
    },
    {
     "data": {
      "text/html": [
       "<div>\n",
       "<style scoped>\n",
       "    .dataframe tbody tr th:only-of-type {\n",
       "        vertical-align: middle;\n",
       "    }\n",
       "\n",
       "    .dataframe tbody tr th {\n",
       "        vertical-align: top;\n",
       "    }\n",
       "\n",
       "    .dataframe thead th {\n",
       "        text-align: right;\n",
       "    }\n",
       "</style>\n",
       "<table border=\"1\" class=\"dataframe\">\n",
       "  <thead>\n",
       "    <tr style=\"text-align: right;\">\n",
       "      <th></th>\n",
       "      <th>top_words</th>\n",
       "    </tr>\n",
       "  </thead>\n",
       "  <tbody>\n",
       "    <tr>\n",
       "      <th>0</th>\n",
       "      <td>[midi, v-necklin, dress, knit, match, 69, lace, 177, model, 6]</td>\n",
       "    </tr>\n",
       "    <tr>\n",
       "      <th>1</th>\n",
       "      <td>[loose-fit, pleat, dress, necklin, 69, open, 177, long, button, sleev]</td>\n",
       "    </tr>\n",
       "    <tr>\n",
       "      <th>2</th>\n",
       "      <td>[peak, nautic, cardboard, intact, return, cap, origin, item, packag, thi]</td>\n",
       "    </tr>\n",
       "    <tr>\n",
       "      <th>3</th>\n",
       "      <td>[peak, nautic, cap, inner, adjust, strap, plate, pocket, plush, plimsoll-styl]</td>\n",
       "    </tr>\n",
       "    <tr>\n",
       "      <th>4</th>\n",
       "      <td>[nautic, cardboard, intact, return, cap, origin, item, packag, thi, button]</td>\n",
       "    </tr>\n",
       "  </tbody>\n",
       "</table>\n",
       "</div>"
      ],
      "text/plain": [
       "                                                                        top_words\n",
       "0  [midi, v-necklin, dress, knit, match, 69, lace, 177, model, 6]                \n",
       "1  [loose-fit, pleat, dress, necklin, 69, open, 177, long, button, sleev]        \n",
       "2  [peak, nautic, cardboard, intact, return, cap, origin, item, packag, thi]     \n",
       "3  [peak, nautic, cap, inner, adjust, strap, plate, pocket, plush, plimsoll-styl]\n",
       "4  [nautic, cardboard, intact, return, cap, origin, item, packag, thi, button]   "
      ]
     },
     "execution_count": 85,
     "metadata": {},
     "output_type": "execute_result"
    }
   ],
   "source": [
    "pd.set_option('display.max_colwidth', -1)\n",
    "top_words.head()"
   ]
  },
  {
   "cell_type": "code",
   "execution_count": 86,
   "metadata": {},
   "outputs": [
    {
     "data": {
      "text/html": [
       "<div>\n",
       "<style scoped>\n",
       "    .dataframe tbody tr th:only-of-type {\n",
       "        vertical-align: middle;\n",
       "    }\n",
       "\n",
       "    .dataframe tbody tr th {\n",
       "        vertical-align: top;\n",
       "    }\n",
       "\n",
       "    .dataframe thead th {\n",
       "        text-align: right;\n",
       "    }\n",
       "</style>\n",
       "<table border=\"1\" class=\"dataframe\">\n",
       "  <thead>\n",
       "    <tr style=\"text-align: right;\">\n",
       "      <th></th>\n",
       "      <th>top_words</th>\n",
       "    </tr>\n",
       "  </thead>\n",
       "  <tbody>\n",
       "    <tr>\n",
       "      <th>1436</th>\n",
       "      <td>[cushion, stripe, includ, cover, print, cotton, platform, polka, point, pocket]</td>\n",
       "    </tr>\n",
       "    <tr>\n",
       "      <th>1437</th>\n",
       "      <td>[gnome, rectangular, cushion, print, featur, -, plastic, pocket, plush, plimsoll-styl]</td>\n",
       "    </tr>\n",
       "    <tr>\n",
       "      <th>1438</th>\n",
       "      <td>[eye, mask, band, jersey, fit, comfort, elast, cotton, featur, pleasant]</td>\n",
       "    </tr>\n",
       "    <tr>\n",
       "      <th>1439</th>\n",
       "      <td>[chipboard, iron, jacquard, hanger, hook, set, paisley, pad, sold, fabric]</td>\n",
       "    </tr>\n",
       "    <tr>\n",
       "      <th>1440</th>\n",
       "      <td>[hanger, ultra-thin, littl, kind, cloth, suitabl, iron, wardrob, lightweight, room]</td>\n",
       "    </tr>\n",
       "  </tbody>\n",
       "</table>\n",
       "</div>"
      ],
      "text/plain": [
       "                                                                                   top_words\n",
       "1436  [cushion, stripe, includ, cover, print, cotton, platform, polka, point, pocket]       \n",
       "1437  [gnome, rectangular, cushion, print, featur, -, plastic, pocket, plush, plimsoll-styl]\n",
       "1438  [eye, mask, band, jersey, fit, comfort, elast, cotton, featur, pleasant]              \n",
       "1439  [chipboard, iron, jacquard, hanger, hook, set, paisley, pad, sold, fabric]            \n",
       "1440  [hanger, ultra-thin, littl, kind, cloth, suitabl, iron, wardrob, lightweight, room]   "
      ]
     },
     "execution_count": 86,
     "metadata": {},
     "output_type": "execute_result"
    }
   ],
   "source": [
    "top_words.tail()"
   ]
  },
  {
   "cell_type": "markdown",
   "metadata": {},
   "source": [
    "## Sources\n",
    "https://towardsdatascience.com/natural-language-processing-feature-engineering-using-tf-idf-e8b9d00e7e76\n",
    "https://kavita-ganesan.com/tfidftransformer-tfidfvectorizer-usage-differences/\n"
   ]
  }
 ],
 "metadata": {
  "kernelspec": {
   "display_name": "Python 3",
   "language": "python",
   "name": "python3"
  },
  "language_info": {
   "codemirror_mode": {
    "name": "ipython",
    "version": 3
   },
   "file_extension": ".py",
   "mimetype": "text/x-python",
   "name": "python",
   "nbconvert_exporter": "python",
   "pygments_lexer": "ipython3",
   "version": "3.7.7"
  }
 },
 "nbformat": 4,
 "nbformat_minor": 2
}
