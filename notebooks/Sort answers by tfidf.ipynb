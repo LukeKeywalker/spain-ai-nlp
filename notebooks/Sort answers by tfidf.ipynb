{
 "cells": [
  {
   "cell_type": "markdown",
   "metadata": {},
   "source": [
    "# Get the key words for the testing descriptions\n"
   ]
  },
  {
   "cell_type": "code",
   "execution_count": 1,
   "metadata": {},
   "outputs": [],
   "source": [
    "import nltk\n",
    "import re\n",
    "import numpy as np\n",
    "import pandas as pd\n",
    "\n",
    "from sklearn.feature_extraction.text import TfidfVectorizer\n",
    "from nltk.stem.porter import PorterStemmer\n",
    "from sklearn.feature_extraction.text import TfidfTransformer\n",
    "from sklearn.feature_extraction.text import CountVectorizer"
   ]
  },
  {
   "cell_type": "code",
   "execution_count": 2,
   "metadata": {},
   "outputs": [],
   "source": [
    "import sys  \n",
    "sys.path.insert(0, 'C:\\\\Users\\\\ARosa\\\\Documents\\\\spain-ai-nlp')\n",
    "\n",
    "from sorting_utils import *\n",
    "from dataset_utils import *"
   ]
  },
  {
   "cell_type": "code",
   "execution_count": 3,
   "metadata": {},
   "outputs": [
    {
     "data": {
      "text/html": [
       "<div>\n",
       "<style scoped>\n",
       "    .dataframe tbody tr th:only-of-type {\n",
       "        vertical-align: middle;\n",
       "    }\n",
       "\n",
       "    .dataframe tbody tr th {\n",
       "        vertical-align: top;\n",
       "    }\n",
       "\n",
       "    .dataframe thead th {\n",
       "        text-align: right;\n",
       "    }\n",
       "</style>\n",
       "<table border=\"1\" class=\"dataframe\">\n",
       "  <thead>\n",
       "    <tr style=\"text-align: right;\">\n",
       "      <th></th>\n",
       "      <th>description</th>\n",
       "    </tr>\n",
       "  </thead>\n",
       "  <tbody>\n",
       "    <tr>\n",
       "      <th>1</th>\n",
       "      <td>Knit midi dress with a V-neckline, straps and ...</td>\n",
       "    </tr>\n",
       "    <tr>\n",
       "      <th>2</th>\n",
       "      <td>Loose-fitting dress with a round neckline, lon...</td>\n",
       "    </tr>\n",
       "    <tr>\n",
       "      <th>3</th>\n",
       "      <td>Nautical cap with peak.&lt;br/&gt;&lt;br/&gt;This item mus...</td>\n",
       "    </tr>\n",
       "    <tr>\n",
       "      <th>4</th>\n",
       "      <td>Nautical cap with peak. Adjustable inner strap...</td>\n",
       "    </tr>\n",
       "    <tr>\n",
       "      <th>5</th>\n",
       "      <td>Nautical cap with side button detail.&lt;br/&gt;&lt;br/...</td>\n",
       "    </tr>\n",
       "  </tbody>\n",
       "</table>\n",
       "</div>"
      ],
      "text/plain": [
       "                                         description\n",
       "1  Knit midi dress with a V-neckline, straps and ...\n",
       "2  Loose-fitting dress with a round neckline, lon...\n",
       "3  Nautical cap with peak.<br/><br/>This item mus...\n",
       "4  Nautical cap with peak. Adjustable inner strap...\n",
       "5  Nautical cap with side button detail.<br/><br/..."
      ]
     },
     "execution_count": 3,
     "metadata": {},
     "output_type": "execute_result"
    }
   ],
   "source": [
    "column_names = ['description']\n",
    "test_data = pd.read_csv('../data/test_descriptions.csv', names=column_names, header=None)[1:]\n",
    "test_data.head()"
   ]
  },
  {
   "cell_type": "code",
   "execution_count": 4,
   "metadata": {},
   "outputs": [],
   "source": [
    "def clean_and_tokenize2(input):\n",
    "    \"\"\"\n",
    "    Cleans the input and returns a list of tokens (words).\n",
    "    Step needed to perform a tfidf analysis\n",
    "    \"\"\"\n",
    "    if input.startswith('\"') and input.endswith('\"'):\n",
    "        input = input[1:-1]\n",
    "\n",
    "    input = input.replace('<br>', '') \\\n",
    "        .replace('</br>', '') \\\n",
    "        .replace('<br/>', '') \\\n",
    "        .replace('|', '') \\\n",
    "        .upper()\n",
    "    words = re.sub(r\"[^A-Za-z0-9\\-]\", \" \", input).lower()\n",
    "    return words"
   ]
  },
  {
   "cell_type": "code",
   "execution_count": 5,
   "metadata": {},
   "outputs": [],
   "source": [
    "# method to get the corpus from the dataframe\n",
    "def get_corpus3(df):\n",
    "    \"\"\"\n",
    "    Compute the text corpus from the dataframe after completing\n",
    "    a full clearning process, removing all except alphanumeric text\n",
    "    \"\"\"\n",
    "    corpus = []\n",
    "    for index, row in df.iterrows():\n",
    "        corpus.append(clean_and_tokenize2(row['description']))\n",
    "    #corpus = ' '.join(corpus)\n",
    "    return corpus"
   ]
  },
  {
   "cell_type": "code",
   "execution_count": 65,
   "metadata": {},
   "outputs": [
    {
     "name": "stdout",
     "output_type": "stream",
     "text": [
      "1441\n"
     ]
    }
   ],
   "source": [
    "corpus = get_corpus3(test_data)\n",
    "print(len(corpus))"
   ]
  },
  {
   "cell_type": "code",
   "execution_count": 35,
   "metadata": {},
   "outputs": [
    {
     "data": {
      "text/plain": [
       "['knit midi dress with a v-neckline  straps and matching lace detail height of model  177 cm    69 6 ',\n",
       " 'loose-fitting dress with a round neckline  long sleeves  pleat details and a buttoned opening at the back height of model  177 cm   69 6 ',\n",
       " 'nautical cap with peak this item must be returned with the original cardboard packaging intact ',\n",
       " 'nautical cap with peak  adjustable inner strap detail ',\n",
       " 'nautical cap with side button detail this item must be returned with the original cardboard packaging intact ',\n",
       " 'faded short sleeve t-shirt with a round neckline and a front print due to the dyeing process  the print on each t-shirt is unique and may differ from what is shown in the photo height of model  177 cm    69 6 ',\n",
       " 'coat with a round collar and long sleeves  featuring front welt pockets  faux suede interior and button fastening on the front  height of model  177 cm    69 6 ',\n",
       " 'ripped t-shirt  round neck and short sleevesheight of model 176',\n",
       " 'fitted top made from a polyamide blend  features wide straps and chest reinforcement model height  178 cm',\n",
       " 'fitted top made from a polyamide blend  features wide straps and chest reinforcement model height  177 cm   69 6 ']"
      ]
     },
     "execution_count": 35,
     "metadata": {},
     "output_type": "execute_result"
    }
   ],
   "source": [
    "corpus[:10]"
   ]
  },
  {
   "cell_type": "code",
   "execution_count": 7,
   "metadata": {},
   "outputs": [
    {
     "name": "stderr",
     "output_type": "stream",
     "text": [
      "C:\\Users\\ARosa\\Miniconda3\\lib\\site-packages\\sklearn\\feature_extraction\\text.py:385: UserWarning: Your stop_words may be inconsistent with your preprocessing. Tokenizing the stop words generated tokens ['abov', 'afterward', 'alon', 'alreadi', 'alway', 'ani', 'anoth', 'anyon', 'anyth', 'anywher', 'becam', 'becaus', 'becom', 'befor', 'besid', 'cri', 'describ', 'dure', 'els', 'elsewher', 'empti', 'everi', 'everyon', 'everyth', 'everywher', 'fifti', 'formerli', 'forti', 'ha', 'henc', 'hereaft', 'herebi', 'hi', 'howev', 'hundr', 'inde', 'latterli', 'mani', 'meanwhil', 'moreov', 'mostli', 'nobodi', 'noon', 'noth', 'nowher', 'onc', 'onli', 'otherwis', 'ourselv', 'perhap', 'pleas', 'seriou', 'sever', 'sinc', 'sincer', 'sixti', 'someon', 'someth', 'sometim', 'somewher', 'themselv', 'thenc', 'thereaft', 'therebi', 'therefor', 'thi', 'thu', 'togeth', 'twelv', 'twenti', 'veri', 'wa', 'whatev', 'whenc', 'whenev', 'wherea', 'whereaft', 'wherebi', 'wherev', 'whi', 'yourselv'] not in stop_words.\n",
      "  'stop_words.' % sorted(inconsistent))\n"
     ]
    },
    {
     "data": {
      "text/html": [
       "<div>\n",
       "<style scoped>\n",
       "    .dataframe tbody tr th:only-of-type {\n",
       "        vertical-align: middle;\n",
       "    }\n",
       "\n",
       "    .dataframe tbody tr th {\n",
       "        vertical-align: top;\n",
       "    }\n",
       "\n",
       "    .dataframe thead th {\n",
       "        text-align: right;\n",
       "    }\n",
       "</style>\n",
       "<table border=\"1\" class=\"dataframe\">\n",
       "  <thead>\n",
       "    <tr style=\"text-align: right;\">\n",
       "      <th></th>\n",
       "      <th>tfidf</th>\n",
       "    </tr>\n",
       "  </thead>\n",
       "  <tbody>\n",
       "    <tr>\n",
       "      <th>midi</th>\n",
       "      <td>0.451433</td>\n",
       "    </tr>\n",
       "    <tr>\n",
       "      <th>v-necklin</th>\n",
       "      <td>0.386010</td>\n",
       "    </tr>\n",
       "    <tr>\n",
       "      <th>dress</th>\n",
       "      <td>0.314312</td>\n",
       "    </tr>\n",
       "    <tr>\n",
       "      <th>knit</th>\n",
       "      <td>0.314312</td>\n",
       "    </tr>\n",
       "    <tr>\n",
       "      <th>match</th>\n",
       "      <td>0.314312</td>\n",
       "    </tr>\n",
       "    <tr>\n",
       "      <th>...</th>\n",
       "      <td>...</td>\n",
       "    </tr>\n",
       "    <tr>\n",
       "      <th>eyestay</th>\n",
       "      <td>0.000000</td>\n",
       "    </tr>\n",
       "    <tr>\n",
       "      <th>eyelet</th>\n",
       "      <td>0.000000</td>\n",
       "    </tr>\n",
       "    <tr>\n",
       "      <th>eye</th>\n",
       "      <td>0.000000</td>\n",
       "    </tr>\n",
       "    <tr>\n",
       "      <th>extralight</th>\n",
       "      <td>0.000000</td>\n",
       "    </tr>\n",
       "    <tr>\n",
       "      <th>zip-up</th>\n",
       "      <td>0.000000</td>\n",
       "    </tr>\n",
       "  </tbody>\n",
       "</table>\n",
       "<p>1693 rows × 1 columns</p>\n",
       "</div>"
      ],
      "text/plain": [
       "               tfidf\n",
       "midi        0.451433\n",
       "v-necklin   0.386010\n",
       "dress       0.314312\n",
       "knit        0.314312\n",
       "match       0.314312\n",
       "...              ...\n",
       "eyestay     0.000000\n",
       "eyelet      0.000000\n",
       "eye         0.000000\n",
       "extralight  0.000000\n",
       "zip-up      0.000000\n",
       "\n",
       "[1693 rows x 1 columns]"
      ]
     },
     "execution_count": 7,
     "metadata": {},
     "output_type": "execute_result"
    }
   ],
   "source": [
    "tfidf = TfidfVectorizer(tokenizer=tokenize, stop_words='english')\n",
    "tfidf_vectors = tfidf.fit_transform(corpus)\n",
    "feature_names = tfidf.get_feature_names()\n",
    "# get the first vector out (for the first document) \n",
    "first_vector_tfidfvectorizer=tfidf_vectors[0] \n",
    " \n",
    "# place tf-idf values in a pandas data frame \n",
    "df0 = pd.DataFrame(first_vector_tfidfvectorizer.T.todense(), index=feature_names, \n",
    "                  columns=[\"tfidf\"]) \n",
    "df0 = df0.sort_values(by=[\"tfidf\"],ascending=False)\n",
    "df0"
   ]
  },
  {
   "cell_type": "code",
   "execution_count": 8,
   "metadata": {},
   "outputs": [],
   "source": [
    "def get_top_words(tfidf_vectors, feature_names, position, n):\n",
    "    '''\n",
    "    It extracts the tifidf vector corresponding to the given position and returns the top n words \n",
    "    '''\n",
    "    vector_tfidfvectorizer=tfidf_vectors[position]\n",
    "    df0 = pd.DataFrame(vector_tfidfvectorizer.T.todense(), index=feature_names, \n",
    "                  columns=[\"tfidf\"]) \n",
    "    df0 = df0.sort_values(by=[\"tfidf\"],ascending=False)\n",
    "    return df0[:n].index.tolist()"
   ]
  },
  {
   "cell_type": "code",
   "execution_count": 78,
   "metadata": {},
   "outputs": [
    {
     "name": "stdout",
     "output_type": "stream",
     "text": [
      "['polyamid', 'reinforc', '178', 'chest', 'blend']\n"
     ]
    }
   ],
   "source": [
    "print(get_top_words(tfidf_vectors, feature_names, 10, 5))"
   ]
  },
  {
   "cell_type": "markdown",
   "metadata": {},
   "source": [
    "# Get the submission file"
   ]
  },
  {
   "cell_type": "code",
   "execution_count": 9,
   "metadata": {},
   "outputs": [
    {
     "data": {
      "text/html": [
       "<div>\n",
       "<style scoped>\n",
       "    .dataframe tbody tr th:only-of-type {\n",
       "        vertical-align: middle;\n",
       "    }\n",
       "\n",
       "    .dataframe tbody tr th {\n",
       "        vertical-align: top;\n",
       "    }\n",
       "\n",
       "    .dataframe thead th {\n",
       "        text-align: right;\n",
       "    }\n",
       "</style>\n",
       "<table border=\"1\" class=\"dataframe\">\n",
       "  <thead>\n",
       "    <tr style=\"text-align: right;\">\n",
       "      <th></th>\n",
       "      <th>name</th>\n",
       "    </tr>\n",
       "  </thead>\n",
       "  <tbody>\n",
       "    <tr>\n",
       "      <th>0</th>\n",
       "      <td>KNIT MIDI DRESS WITH A V-PRINT, V-NECK KNIT DR...</td>\n",
       "    </tr>\n",
       "    <tr>\n",
       "      <th>1</th>\n",
       "      <td>HEARTIC SHIRT DRESS TRF, LACE MINI DRESS, DOTT...</td>\n",
       "    </tr>\n",
       "    <tr>\n",
       "      <th>2</th>\n",
       "      <td>FAUXCE BLANKET WITH A CONTRAST HERRINGBONE DES...</td>\n",
       "    </tr>\n",
       "    <tr>\n",
       "      <th>3</th>\n",
       "      <td>FAUX FUR CUSHION WITH SNOOPY PRINT.&lt;BR/&gt;&lt;|ENDO...</td>\n",
       "    </tr>\n",
       "    <tr>\n",
       "      <th>4</th>\n",
       "      <td>ACIDONA WITH SIDE BUTTON, PACK OF FOUR BASIC R...</td>\n",
       "    </tr>\n",
       "  </tbody>\n",
       "</table>\n",
       "</div>"
      ],
      "text/plain": [
       "                                                name\n",
       "0  KNIT MIDI DRESS WITH A V-PRINT, V-NECK KNIT DR...\n",
       "1  HEARTIC SHIRT DRESS TRF, LACE MINI DRESS, DOTT...\n",
       "2  FAUXCE BLANKET WITH A CONTRAST HERRINGBONE DES...\n",
       "3  FAUX FUR CUSHION WITH SNOOPY PRINT.<BR/><|ENDO...\n",
       "4  ACIDONA WITH SIDE BUTTON, PACK OF FOUR BASIC R..."
      ]
     },
     "execution_count": 9,
     "metadata": {},
     "output_type": "execute_result"
    }
   ],
   "source": [
    "import pandas as pd\n",
    "df = pd.read_csv('../submission/model_4_submission.csv', sep='\\n')\n",
    "df.head()"
   ]
  },
  {
   "cell_type": "code",
   "execution_count": 50,
   "metadata": {},
   "outputs": [
    {
     "data": {
      "text/plain": [
       "1441"
      ]
     },
     "execution_count": 50,
     "metadata": {},
     "output_type": "execute_result"
    }
   ],
   "source": [
    "len(df['name'])"
   ]
  },
  {
   "cell_type": "code",
   "execution_count": 51,
   "metadata": {},
   "outputs": [],
   "source": [
    "df['row_num'] = df.reset_index().index"
   ]
  },
  {
   "cell_type": "code",
   "execution_count": 52,
   "metadata": {},
   "outputs": [
    {
     "data": {
      "text/html": [
       "<div>\n",
       "<style scoped>\n",
       "    .dataframe tbody tr th:only-of-type {\n",
       "        vertical-align: middle;\n",
       "    }\n",
       "\n",
       "    .dataframe tbody tr th {\n",
       "        vertical-align: top;\n",
       "    }\n",
       "\n",
       "    .dataframe thead th {\n",
       "        text-align: right;\n",
       "    }\n",
       "</style>\n",
       "<table border=\"1\" class=\"dataframe\">\n",
       "  <thead>\n",
       "    <tr style=\"text-align: right;\">\n",
       "      <th></th>\n",
       "      <th>name</th>\n",
       "      <th>row_num</th>\n",
       "    </tr>\n",
       "  </thead>\n",
       "  <tbody>\n",
       "    <tr>\n",
       "      <th>0</th>\n",
       "      <td>KNIT MIDI DRESS WITH A V-PRINT, V-NECK KNIT DR...</td>\n",
       "      <td>0</td>\n",
       "    </tr>\n",
       "    <tr>\n",
       "      <th>1</th>\n",
       "      <td>HEARTIC SHIRT DRESS TRF, LACE MINI DRESS, DOTT...</td>\n",
       "      <td>1</td>\n",
       "    </tr>\n",
       "    <tr>\n",
       "      <th>2</th>\n",
       "      <td>FAUXCE BLANKET WITH A CONTRAST HERRINGBONE DES...</td>\n",
       "      <td>2</td>\n",
       "    </tr>\n",
       "    <tr>\n",
       "      <th>3</th>\n",
       "      <td>FAUX FUR CUSHION WITH SNOOPY PRINT.&lt;BR/&gt;&lt;|ENDO...</td>\n",
       "      <td>3</td>\n",
       "    </tr>\n",
       "    <tr>\n",
       "      <th>4</th>\n",
       "      <td>ACIDONA WITH SIDE BUTTON, PACK OF FOUR BASIC R...</td>\n",
       "      <td>4</td>\n",
       "    </tr>\n",
       "  </tbody>\n",
       "</table>\n",
       "</div>"
      ],
      "text/plain": [
       "                                                name  row_num\n",
       "0  KNIT MIDI DRESS WITH A V-PRINT, V-NECK KNIT DR...        0\n",
       "1  HEARTIC SHIRT DRESS TRF, LACE MINI DRESS, DOTT...        1\n",
       "2  FAUXCE BLANKET WITH A CONTRAST HERRINGBONE DES...        2\n",
       "3  FAUX FUR CUSHION WITH SNOOPY PRINT.<BR/><|ENDO...        3\n",
       "4  ACIDONA WITH SIDE BUTTON, PACK OF FOUR BASIC R...        4"
      ]
     },
     "execution_count": 52,
     "metadata": {},
     "output_type": "execute_result"
    }
   ],
   "source": [
    "df.head()"
   ]
  },
  {
   "cell_type": "code",
   "execution_count": 22,
   "metadata": {},
   "outputs": [],
   "source": [
    "def clean_tokenize_answer(answer):\n",
    "    '''\n",
    "    Method to remove non alphanumeric characters, to transform to lowercase\n",
    "    and to stem the words. It returns the list of words per answer.\n",
    "    '''\n",
    "    list_answers = answer.split(',')\n",
    "    clean_answers = []\n",
    "    for a in list_answers:\n",
    "        ca = clean_and_tokenize2(a)\n",
    "        ca = tokenize(ca)\n",
    "        clean_answers.append(ca)\n",
    "    return clean_answers"
   ]
  },
  {
   "cell_type": "code",
   "execution_count": 57,
   "metadata": {},
   "outputs": [],
   "source": [
    "def get_top5_score(top_5, answer):\n",
    "    '''\n",
    "    Give the answer the score using one components:\n",
    "    1. the matches with top_5 words\n",
    "    Max. score = 1 (if there are 5 similar words)\n",
    "    :param top_5: top 5 words for that answer\n",
    "    :param answer: list of words of the answer\n",
    "    '''\n",
    "    answer = [item for sublist in answer for item in sublist]\n",
    "    #print(type(answer))\n",
    "    unique_words = set(answer)\n",
    "    score = 0.0\n",
    "    for word in unique_words:\n",
    "        if word in top_5:\n",
    "            score += 0.25\n",
    "    #print(\"unique words {} and score {}\".format(unique_words, score))\n",
    "    return score"
   ]
  },
  {
   "cell_type": "code",
   "execution_count": 58,
   "metadata": {},
   "outputs": [],
   "source": [
    "def get_tfidf_score(answer, top_5):\n",
    "    '''\n",
    "    This method will return a new column with the scores given for each\n",
    "    answer in the list.\n",
    "    :param answer: list of candidates\n",
    "    :param top_5: top five words for that description in the test file\n",
    "    '''\n",
    "    # clean the answer the same way we did for the tfidf model\n",
    "    #print(len(answer))\n",
    "    #print(\"answer {}\".format(answer))\n",
    "    c_answer = clean_tokenize_answer(answer)\n",
    "\n",
    "    # score only with similar words\n",
    "    return get_top5_score(top_5, c_answer)\n",
    "    "
   ]
  },
  {
   "cell_type": "code",
   "execution_count": 59,
   "metadata": {},
   "outputs": [],
   "source": [
    "def get_global_score(top_5, answer):\n",
    "    '''\n",
    "    Give the answer the total score using two components:\n",
    "    1. the matches with top_5 words\n",
    "    2. the length/words_count score\n",
    "    Max. score = 2\n",
    "    :param top_5: top 5 words for that answer\n",
    "    :param answer: list of words of the answer\n",
    "    '''\n",
    "    unique_words = set(answer)\n",
    "    score = 0.0\n",
    "    for word in unique_words:\n",
    "        if word in top_5:\n",
    "            score += 0.25\n",
    "    score += length_wc_scoring(answer,0.3,0.7)       \n",
    "    return score"
   ]
  },
  {
   "cell_type": "code",
   "execution_count": 60,
   "metadata": {},
   "outputs": [],
   "source": [
    "def new_sorted_list(row, tfidf_vectors, feature_names):\n",
    "    scores = []\n",
    "    candidates = row['name']\n",
    "    row_index = row['row_num']\n",
    "    row_list = candidates.split(\",\")\n",
    "    # for each answer we have already a list of words\n",
    "    # get the top 5 words for that answer\n",
    "    top_5 = get_top_words(tfidf_vectors, feature_names, row_index, 5)\n",
    "    #print(\"top_5 {}\".format(top_5))\n",
    "    for i in range(len(row_list)):\n",
    "        r = row_list[i]\n",
    "\n",
    "        # compute the score\n",
    "        s = get_tfidf_score(r.strip(), top_5)\n",
    "        #print(\"answer{} and score{}\".format(r,s))\n",
    "        scores.append(s)\n",
    "    df = pd.DataFrame()\n",
    "    df['answer'] = row_list\n",
    "    df['score'] = scores\n",
    "    #print(df)\n",
    "    df = df.sort_values(by='score', ascending=False)\n",
    "    #print(df)\n",
    "    return \",\".join(df.answer)"
   ]
  },
  {
   "cell_type": "code",
   "execution_count": 67,
   "metadata": {},
   "outputs": [
    {
     "data": {
      "text/html": [
       "<div>\n",
       "<style scoped>\n",
       "    .dataframe tbody tr th:only-of-type {\n",
       "        vertical-align: middle;\n",
       "    }\n",
       "\n",
       "    .dataframe tbody tr th {\n",
       "        vertical-align: top;\n",
       "    }\n",
       "\n",
       "    .dataframe thead th {\n",
       "        text-align: right;\n",
       "    }\n",
       "</style>\n",
       "<table border=\"1\" class=\"dataframe\">\n",
       "  <thead>\n",
       "    <tr style=\"text-align: right;\">\n",
       "      <th></th>\n",
       "      <th>name</th>\n",
       "      <th>row_num</th>\n",
       "      <th>sorted</th>\n",
       "    </tr>\n",
       "  </thead>\n",
       "  <tbody>\n",
       "    <tr>\n",
       "      <th>0</th>\n",
       "      <td>KNIT MIDI DRESS WITH A V-PRINT, V-NECK KNIT DR...</td>\n",
       "      <td>0</td>\n",
       "      <td>KNIT MIDI DRESS WITH A V-NECKLINE, KNIT MIDI ...</td>\n",
       "    </tr>\n",
       "    <tr>\n",
       "      <th>1</th>\n",
       "      <td>HEARTIC SHIRT DRESS TRF, LACE MINI DRESS, DOTT...</td>\n",
       "      <td>1</td>\n",
       "      <td>IFT WHEEL LOOSE-FITTING DRESS WITH PLEATS TRF...</td>\n",
       "    </tr>\n",
       "    <tr>\n",
       "      <th>2</th>\n",
       "      <td>FAUXCE BLANKET WITH A CONTRAST HERRINGBONE DES...</td>\n",
       "      <td>2</td>\n",
       "      <td>FADED ROUND NECK TOP WITH SHORT SLEEVES.&lt;|END...</td>\n",
       "    </tr>\n",
       "    <tr>\n",
       "      <th>3</th>\n",
       "      <td>FAUX FUR CUSHION WITH SNOOPY PRINT.&lt;BR/&gt;&lt;|ENDO...</td>\n",
       "      <td>3</td>\n",
       "      <td>PEAK CAP WITH A CONTRAST PATCH ON THE FRONT A...</td>\n",
       "    </tr>\n",
       "    <tr>\n",
       "      <th>4</th>\n",
       "      <td>ACIDONA WITH SIDE BUTTON, PACK OF FOUR BASIC R...</td>\n",
       "      <td>4</td>\n",
       "      <td>THEALED NAUTICAL CAP WITH SIDE BUTTON DETAIL,...</td>\n",
       "    </tr>\n",
       "  </tbody>\n",
       "</table>\n",
       "</div>"
      ],
      "text/plain": [
       "                                                name  row_num  \\\n",
       "0  KNIT MIDI DRESS WITH A V-PRINT, V-NECK KNIT DR...        0   \n",
       "1  HEARTIC SHIRT DRESS TRF, LACE MINI DRESS, DOTT...        1   \n",
       "2  FAUXCE BLANKET WITH A CONTRAST HERRINGBONE DES...        2   \n",
       "3  FAUX FUR CUSHION WITH SNOOPY PRINT.<BR/><|ENDO...        3   \n",
       "4  ACIDONA WITH SIDE BUTTON, PACK OF FOUR BASIC R...        4   \n",
       "\n",
       "                                              sorted  \n",
       "0   KNIT MIDI DRESS WITH A V-NECKLINE, KNIT MIDI ...  \n",
       "1   IFT WHEEL LOOSE-FITTING DRESS WITH PLEATS TRF...  \n",
       "2   FADED ROUND NECK TOP WITH SHORT SLEEVES.<|END...  \n",
       "3   PEAK CAP WITH A CONTRAST PATCH ON THE FRONT A...  \n",
       "4   THEALED NAUTICAL CAP WITH SIDE BUTTON DETAIL,...  "
      ]
     },
     "execution_count": 67,
     "metadata": {},
     "output_type": "execute_result"
    }
   ],
   "source": [
    "df['sorted'] = df.apply(lambda row: new_sorted_list(row,tfidf_vectors, feature_names), axis=1)\n",
    "df.head()"
   ]
  },
  {
   "cell_type": "code",
   "execution_count": 62,
   "metadata": {},
   "outputs": [],
   "source": [
    "df_top5 = df[['sorted']]"
   ]
  },
  {
   "cell_type": "code",
   "execution_count": 63,
   "metadata": {},
   "outputs": [
    {
     "name": "stderr",
     "output_type": "stream",
     "text": [
      "C:\\Users\\ARosa\\Miniconda3\\lib\\site-packages\\pandas\\core\\frame.py:4133: SettingWithCopyWarning: \n",
      "A value is trying to be set on a copy of a slice from a DataFrame\n",
      "\n",
      "See the caveats in the documentation: https://pandas.pydata.org/pandas-docs/stable/user_guide/indexing.html#returning-a-view-versus-a-copy\n",
      "  errors=errors,\n"
     ]
    }
   ],
   "source": [
    "df_top5.rename(columns = {'sorted':'name'}, inplace=True)"
   ]
  },
  {
   "cell_type": "code",
   "execution_count": 64,
   "metadata": {},
   "outputs": [
    {
     "data": {
      "text/html": [
       "<div>\n",
       "<style scoped>\n",
       "    .dataframe tbody tr th:only-of-type {\n",
       "        vertical-align: middle;\n",
       "    }\n",
       "\n",
       "    .dataframe tbody tr th {\n",
       "        vertical-align: top;\n",
       "    }\n",
       "\n",
       "    .dataframe thead th {\n",
       "        text-align: right;\n",
       "    }\n",
       "</style>\n",
       "<table border=\"1\" class=\"dataframe\">\n",
       "  <thead>\n",
       "    <tr style=\"text-align: right;\">\n",
       "      <th></th>\n",
       "      <th>name</th>\n",
       "    </tr>\n",
       "  </thead>\n",
       "  <tbody>\n",
       "    <tr>\n",
       "      <th>0</th>\n",
       "      <td>KNIT MIDI DRESS WITH A V-NECKLINE, KNIT MIDI ...</td>\n",
       "    </tr>\n",
       "    <tr>\n",
       "      <th>1</th>\n",
       "      <td>IFT WHEEL LOOSE-FITTING DRESS WITH PLEATS TRF...</td>\n",
       "    </tr>\n",
       "    <tr>\n",
       "      <th>2</th>\n",
       "      <td>FADED ROUND NECK TOP WITH SHORT SLEEVES.&lt;|END...</td>\n",
       "    </tr>\n",
       "    <tr>\n",
       "      <th>3</th>\n",
       "      <td>PEAK CAP WITH A CONTRAST PATCH ON THE FRONT A...</td>\n",
       "    </tr>\n",
       "    <tr>\n",
       "      <th>4</th>\n",
       "      <td>THEALED NAUTICAL CAP WITH SIDE BUTTON DETAIL,...</td>\n",
       "    </tr>\n",
       "  </tbody>\n",
       "</table>\n",
       "</div>"
      ],
      "text/plain": [
       "                                                name\n",
       "0   KNIT MIDI DRESS WITH A V-NECKLINE, KNIT MIDI ...\n",
       "1   IFT WHEEL LOOSE-FITTING DRESS WITH PLEATS TRF...\n",
       "2   FADED ROUND NECK TOP WITH SHORT SLEEVES.<|END...\n",
       "3   PEAK CAP WITH A CONTRAST PATCH ON THE FRONT A...\n",
       "4   THEALED NAUTICAL CAP WITH SIDE BUTTON DETAIL,..."
      ]
     },
     "execution_count": 64,
     "metadata": {},
     "output_type": "execute_result"
    }
   ],
   "source": [
    "df_top5.head()"
   ]
  },
  {
   "cell_type": "code",
   "execution_count": null,
   "metadata": {},
   "outputs": [],
   "source": [
    "df.to_csv('../submission/model_4_submission_sorted_selected.csv', sep='\\n',index=False)"
   ]
  }
 ],
 "metadata": {
  "kernelspec": {
   "display_name": "Python 3",
   "language": "python",
   "name": "python3"
  },
  "language_info": {
   "codemirror_mode": {
    "name": "ipython",
    "version": 3
   },
   "file_extension": ".py",
   "mimetype": "text/x-python",
   "name": "python",
   "nbconvert_exporter": "python",
   "pygments_lexer": "ipython3",
   "version": "3.7.7"
  }
 },
 "nbformat": 4,
 "nbformat_minor": 2
}
