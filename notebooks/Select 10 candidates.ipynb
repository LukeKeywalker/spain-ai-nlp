{
 "cells": [
  {
   "cell_type": "code",
   "execution_count": 1,
   "metadata": {},
   "outputs": [
    {
     "data": {
      "text/html": [
       "<div>\n",
       "<style scoped>\n",
       "    .dataframe tbody tr th:only-of-type {\n",
       "        vertical-align: middle;\n",
       "    }\n",
       "\n",
       "    .dataframe tbody tr th {\n",
       "        vertical-align: top;\n",
       "    }\n",
       "\n",
       "    .dataframe thead th {\n",
       "        text-align: right;\n",
       "    }\n",
       "</style>\n",
       "<table border=\"1\" class=\"dataframe\">\n",
       "  <thead>\n",
       "    <tr style=\"text-align: right;\">\n",
       "      <th></th>\n",
       "      <th>name</th>\n",
       "    </tr>\n",
       "  </thead>\n",
       "  <tbody>\n",
       "    <tr>\n",
       "      <th>0</th>\n",
       "      <td>KNIT MIDI DRESS WITH A V-PRINT, V-NECK KNIT DR...</td>\n",
       "    </tr>\n",
       "    <tr>\n",
       "      <th>1</th>\n",
       "      <td>HEARTIC SHIRT DRESS TRF, LACE MINI DRESS, DOTT...</td>\n",
       "    </tr>\n",
       "    <tr>\n",
       "      <th>2</th>\n",
       "      <td>FAUXCE BLANKET WITH A CONTRAST HERRINGBONE DES...</td>\n",
       "    </tr>\n",
       "    <tr>\n",
       "      <th>3</th>\n",
       "      <td>FAUX FUR CUSHION WITH SNOOPY PRINT.&lt;BR/&gt;&lt;|ENDO...</td>\n",
       "    </tr>\n",
       "    <tr>\n",
       "      <th>4</th>\n",
       "      <td>ACIDONA WITH SIDE BUTTON, PACK OF FOUR BASIC R...</td>\n",
       "    </tr>\n",
       "  </tbody>\n",
       "</table>\n",
       "</div>"
      ],
      "text/plain": [
       "                                                name\n",
       "0  KNIT MIDI DRESS WITH A V-PRINT, V-NECK KNIT DR...\n",
       "1  HEARTIC SHIRT DRESS TRF, LACE MINI DRESS, DOTT...\n",
       "2  FAUXCE BLANKET WITH A CONTRAST HERRINGBONE DES...\n",
       "3  FAUX FUR CUSHION WITH SNOOPY PRINT.<BR/><|ENDO...\n",
       "4  ACIDONA WITH SIDE BUTTON, PACK OF FOUR BASIC R..."
      ]
     },
     "execution_count": 1,
     "metadata": {},
     "output_type": "execute_result"
    }
   ],
   "source": [
    "import pandas as pd\n",
    "df = pd.read_csv('../submission/model_4_submission.csv', sep='\\n')\n",
    "df.head()"
   ]
  },
  {
   "cell_type": "code",
   "execution_count": 11,
   "metadata": {},
   "outputs": [
    {
     "data": {
      "text/html": [
       "<div>\n",
       "<style scoped>\n",
       "    .dataframe tbody tr th:only-of-type {\n",
       "        vertical-align: middle;\n",
       "    }\n",
       "\n",
       "    .dataframe tbody tr th {\n",
       "        vertical-align: top;\n",
       "    }\n",
       "\n",
       "    .dataframe thead th {\n",
       "        text-align: right;\n",
       "    }\n",
       "</style>\n",
       "<table border=\"1\" class=\"dataframe\">\n",
       "  <thead>\n",
       "    <tr style=\"text-align: right;\">\n",
       "      <th></th>\n",
       "      <th>name</th>\n",
       "    </tr>\n",
       "  </thead>\n",
       "  <tbody>\n",
       "    <tr>\n",
       "      <th>0</th>\n",
       "      <td>FROZEN EMBROIDERED KNIT DRESS, COMBINED MINI D...</td>\n",
       "    </tr>\n",
       "    <tr>\n",
       "      <th>1</th>\n",
       "      <td>HEARTIC SHIRT DRESS TRF, DRESS WITH SHOULDER P...</td>\n",
       "    </tr>\n",
       "    <tr>\n",
       "      <th>2</th>\n",
       "      <td>CAN DIFFERENTIATE FROM CAP, EXTRA SPORTS WITH ...</td>\n",
       "    </tr>\n",
       "    <tr>\n",
       "      <th>3</th>\n",
       "      <td>FACIDED NAUTICAL CAP, BASIC CAP WITH NEON DETA...</td>\n",
       "    </tr>\n",
       "    <tr>\n",
       "      <th>4</th>\n",
       "      <td>ACIDONA WITH SIDE BUTTON, COAT WITH SIDE BUTTO...</td>\n",
       "    </tr>\n",
       "  </tbody>\n",
       "</table>\n",
       "</div>"
      ],
      "text/plain": [
       "                                                name\n",
       "0  FROZEN EMBROIDERED KNIT DRESS, COMBINED MINI D...\n",
       "1  HEARTIC SHIRT DRESS TRF, DRESS WITH SHOULDER P...\n",
       "2  CAN DIFFERENTIATE FROM CAP, EXTRA SPORTS WITH ...\n",
       "3  FACIDED NAUTICAL CAP, BASIC CAP WITH NEON DETA...\n",
       "4  ACIDONA WITH SIDE BUTTON, COAT WITH SIDE BUTTO..."
      ]
     },
     "execution_count": 11,
     "metadata": {},
     "output_type": "execute_result"
    }
   ],
   "source": [
    "df_sorted = pd.read_csv('../submission/model_4_submission_sorted.csv', sep='\\n')\n",
    "df_sorted.head()"
   ]
  },
  {
   "cell_type": "code",
   "execution_count": 3,
   "metadata": {},
   "outputs": [],
   "source": [
    "def select_first(row):\n",
    "    # traverse the list till you find 10 valid candidates\n",
    "    row_list = row.split(\",\")\n",
    "    selected = []\n",
    "    for r in row_list:\n",
    "        # remove any answer containing <| characters\n",
    "        if \"<\" not in r:\n",
    "            selected.append(r)\n",
    "        if len(selected) == 10:\n",
    "            return \",\".join(selected)"
   ]
  },
  {
   "cell_type": "code",
   "execution_count": 4,
   "metadata": {},
   "outputs": [
    {
     "data": {
      "text/html": [
       "<div>\n",
       "<style scoped>\n",
       "    .dataframe tbody tr th:only-of-type {\n",
       "        vertical-align: middle;\n",
       "    }\n",
       "\n",
       "    .dataframe tbody tr th {\n",
       "        vertical-align: top;\n",
       "    }\n",
       "\n",
       "    .dataframe thead th {\n",
       "        text-align: right;\n",
       "    }\n",
       "</style>\n",
       "<table border=\"1\" class=\"dataframe\">\n",
       "  <thead>\n",
       "    <tr style=\"text-align: right;\">\n",
       "      <th></th>\n",
       "      <th>name</th>\n",
       "      <th>selected</th>\n",
       "    </tr>\n",
       "  </thead>\n",
       "  <tbody>\n",
       "    <tr>\n",
       "      <th>0</th>\n",
       "      <td>KNIT MIDI DRESS WITH A V-PRINT, V-NECK KNIT DR...</td>\n",
       "      <td>KNIT MIDI DRESS WITH A V-PRINT, V-NECK KNIT DR...</td>\n",
       "    </tr>\n",
       "    <tr>\n",
       "      <th>1</th>\n",
       "      <td>HEARTIC SHIRT DRESS TRF, LACE MINI DRESS, DOTT...</td>\n",
       "      <td>HEARTIC SHIRT DRESS TRF, LACE MINI DRESS, DOTT...</td>\n",
       "    </tr>\n",
       "    <tr>\n",
       "      <th>2</th>\n",
       "      <td>FAUXCE BLANKET WITH A CONTRAST HERRINGBONE DES...</td>\n",
       "      <td>CAN DIFFERENTIATE FROM CAP, LICAL CURB 05, CO...</td>\n",
       "    </tr>\n",
       "    <tr>\n",
       "      <th>3</th>\n",
       "      <td>FAUX FUR CUSHION WITH SNOOPY PRINT.&lt;BR/&gt;&lt;|ENDO...</td>\n",
       "      <td>PADDED CAP WITH PEARL BEADING TRF, ACIDED NAU...</td>\n",
       "    </tr>\n",
       "    <tr>\n",
       "      <th>4</th>\n",
       "      <td>ACIDONA WITH SIDE BUTTON, PACK OF FOUR BASIC R...</td>\n",
       "      <td>ACIDONA WITH SIDE BUTTON, THE 70S CAP, ANTIQUE...</td>\n",
       "    </tr>\n",
       "  </tbody>\n",
       "</table>\n",
       "</div>"
      ],
      "text/plain": [
       "                                                name  \\\n",
       "0  KNIT MIDI DRESS WITH A V-PRINT, V-NECK KNIT DR...   \n",
       "1  HEARTIC SHIRT DRESS TRF, LACE MINI DRESS, DOTT...   \n",
       "2  FAUXCE BLANKET WITH A CONTRAST HERRINGBONE DES...   \n",
       "3  FAUX FUR CUSHION WITH SNOOPY PRINT.<BR/><|ENDO...   \n",
       "4  ACIDONA WITH SIDE BUTTON, PACK OF FOUR BASIC R...   \n",
       "\n",
       "                                            selected  \n",
       "0  KNIT MIDI DRESS WITH A V-PRINT, V-NECK KNIT DR...  \n",
       "1  HEARTIC SHIRT DRESS TRF, LACE MINI DRESS, DOTT...  \n",
       "2   CAN DIFFERENTIATE FROM CAP, LICAL CURB 05, CO...  \n",
       "3   PADDED CAP WITH PEARL BEADING TRF, ACIDED NAU...  \n",
       "4  ACIDONA WITH SIDE BUTTON, THE 70S CAP, ANTIQUE...  "
      ]
     },
     "execution_count": 4,
     "metadata": {},
     "output_type": "execute_result"
    }
   ],
   "source": [
    "df['selected'] = df['name'].apply(select_first)\n",
    "df.head()"
   ]
  },
  {
   "cell_type": "code",
   "execution_count": 12,
   "metadata": {},
   "outputs": [
    {
     "data": {
      "text/html": [
       "<div>\n",
       "<style scoped>\n",
       "    .dataframe tbody tr th:only-of-type {\n",
       "        vertical-align: middle;\n",
       "    }\n",
       "\n",
       "    .dataframe tbody tr th {\n",
       "        vertical-align: top;\n",
       "    }\n",
       "\n",
       "    .dataframe thead th {\n",
       "        text-align: right;\n",
       "    }\n",
       "</style>\n",
       "<table border=\"1\" class=\"dataframe\">\n",
       "  <thead>\n",
       "    <tr style=\"text-align: right;\">\n",
       "      <th></th>\n",
       "      <th>name</th>\n",
       "      <th>selected</th>\n",
       "    </tr>\n",
       "  </thead>\n",
       "  <tbody>\n",
       "    <tr>\n",
       "      <th>0</th>\n",
       "      <td>FROZEN EMBROIDERED KNIT DRESS, COMBINED MINI D...</td>\n",
       "      <td>FROZEN EMBROIDERED KNIT DRESS, COMBINED MINI D...</td>\n",
       "    </tr>\n",
       "    <tr>\n",
       "      <th>1</th>\n",
       "      <td>HEARTIC SHIRT DRESS TRF, DRESS WITH SHOULDER P...</td>\n",
       "      <td>HEARTIC SHIRT DRESS TRF, DRESS WITH SHOULDER P...</td>\n",
       "    </tr>\n",
       "    <tr>\n",
       "      <th>2</th>\n",
       "      <td>CAN DIFFERENTIATE FROM CAP, EXTRA SPORTS WITH ...</td>\n",
       "      <td>CAN DIFFERENTIATE FROM CAP, EXTRA SPORTS WITH ...</td>\n",
       "    </tr>\n",
       "    <tr>\n",
       "      <th>3</th>\n",
       "      <td>FACIDED NAUTICAL CAP, BASIC CAP WITH NEON DETA...</td>\n",
       "      <td>FACIDED NAUTICAL CAP, BASIC CAP WITH NEON DETA...</td>\n",
       "    </tr>\n",
       "    <tr>\n",
       "      <th>4</th>\n",
       "      <td>ACIDONA WITH SIDE BUTTON, COAT WITH SIDE BUTTO...</td>\n",
       "      <td>ACIDONA WITH SIDE BUTTON, COAT WITH SIDE BUTTO...</td>\n",
       "    </tr>\n",
       "  </tbody>\n",
       "</table>\n",
       "</div>"
      ],
      "text/plain": [
       "                                                name  \\\n",
       "0  FROZEN EMBROIDERED KNIT DRESS, COMBINED MINI D...   \n",
       "1  HEARTIC SHIRT DRESS TRF, DRESS WITH SHOULDER P...   \n",
       "2  CAN DIFFERENTIATE FROM CAP, EXTRA SPORTS WITH ...   \n",
       "3  FACIDED NAUTICAL CAP, BASIC CAP WITH NEON DETA...   \n",
       "4  ACIDONA WITH SIDE BUTTON, COAT WITH SIDE BUTTO...   \n",
       "\n",
       "                                            selected  \n",
       "0  FROZEN EMBROIDERED KNIT DRESS, COMBINED MINI D...  \n",
       "1  HEARTIC SHIRT DRESS TRF, DRESS WITH SHOULDER P...  \n",
       "2  CAN DIFFERENTIATE FROM CAP, EXTRA SPORTS WITH ...  \n",
       "3  FACIDED NAUTICAL CAP, BASIC CAP WITH NEON DETA...  \n",
       "4  ACIDONA WITH SIDE BUTTON, COAT WITH SIDE BUTTO...  "
      ]
     },
     "execution_count": 12,
     "metadata": {},
     "output_type": "execute_result"
    }
   ],
   "source": [
    "df_sorted['selected'] = df_sorted['name'].apply(select_first)\n",
    "df_sorted.head()"
   ]
  },
  {
   "cell_type": "code",
   "execution_count": 5,
   "metadata": {},
   "outputs": [],
   "source": [
    "df= df[['selected']]"
   ]
  },
  {
   "cell_type": "code",
   "execution_count": 13,
   "metadata": {},
   "outputs": [],
   "source": [
    "df_sorted= df_sorted[['selected']]"
   ]
  },
  {
   "cell_type": "code",
   "execution_count": 7,
   "metadata": {},
   "outputs": [],
   "source": [
    "df.rename(columns = {'selected':'name'}, inplace=True)"
   ]
  },
  {
   "cell_type": "code",
   "execution_count": 14,
   "metadata": {},
   "outputs": [],
   "source": [
    "df_sorted.rename(columns = {'selected':'name'}, inplace=True)"
   ]
  },
  {
   "cell_type": "code",
   "execution_count": 8,
   "metadata": {},
   "outputs": [
    {
     "data": {
      "text/html": [
       "<div>\n",
       "<style scoped>\n",
       "    .dataframe tbody tr th:only-of-type {\n",
       "        vertical-align: middle;\n",
       "    }\n",
       "\n",
       "    .dataframe tbody tr th {\n",
       "        vertical-align: top;\n",
       "    }\n",
       "\n",
       "    .dataframe thead th {\n",
       "        text-align: right;\n",
       "    }\n",
       "</style>\n",
       "<table border=\"1\" class=\"dataframe\">\n",
       "  <thead>\n",
       "    <tr style=\"text-align: right;\">\n",
       "      <th></th>\n",
       "      <th>name</th>\n",
       "    </tr>\n",
       "  </thead>\n",
       "  <tbody>\n",
       "    <tr>\n",
       "      <th>0</th>\n",
       "      <td>KNIT MIDI DRESS WITH A V-PRINT, V-NECK KNIT DR...</td>\n",
       "    </tr>\n",
       "    <tr>\n",
       "      <th>1</th>\n",
       "      <td>HEARTIC SHIRT DRESS TRF, LACE MINI DRESS, DOTT...</td>\n",
       "    </tr>\n",
       "    <tr>\n",
       "      <th>2</th>\n",
       "      <td>CAN DIFFERENTIATE FROM CAP, LICAL CURB 05, CO...</td>\n",
       "    </tr>\n",
       "    <tr>\n",
       "      <th>3</th>\n",
       "      <td>PADDED CAP WITH PEARL BEADING TRF, ACIDED NAU...</td>\n",
       "    </tr>\n",
       "    <tr>\n",
       "      <th>4</th>\n",
       "      <td>ACIDONA WITH SIDE BUTTON, THE 70S CAP, ANTIQUE...</td>\n",
       "    </tr>\n",
       "  </tbody>\n",
       "</table>\n",
       "</div>"
      ],
      "text/plain": [
       "                                                name\n",
       "0  KNIT MIDI DRESS WITH A V-PRINT, V-NECK KNIT DR...\n",
       "1  HEARTIC SHIRT DRESS TRF, LACE MINI DRESS, DOTT...\n",
       "2   CAN DIFFERENTIATE FROM CAP, LICAL CURB 05, CO...\n",
       "3   PADDED CAP WITH PEARL BEADING TRF, ACIDED NAU...\n",
       "4  ACIDONA WITH SIDE BUTTON, THE 70S CAP, ANTIQUE..."
      ]
     },
     "execution_count": 8,
     "metadata": {},
     "output_type": "execute_result"
    }
   ],
   "source": [
    "df.head()"
   ]
  },
  {
   "cell_type": "code",
   "execution_count": 9,
   "metadata": {},
   "outputs": [],
   "source": [
    "df['name'] = df['name'].str.lstrip(' ')"
   ]
  },
  {
   "cell_type": "code",
   "execution_count": 15,
   "metadata": {},
   "outputs": [],
   "source": [
    "df_sorted['name'] = df_sorted['name'].str.lstrip(' ')"
   ]
  },
  {
   "cell_type": "code",
   "execution_count": 10,
   "metadata": {},
   "outputs": [],
   "source": [
    "df.to_csv('../submission/model_4_submission_selected.csv', sep='\\n',index=False)"
   ]
  },
  {
   "cell_type": "code",
   "execution_count": 16,
   "metadata": {},
   "outputs": [],
   "source": [
    "df.to_csv('../submission/model_4_submission_sorted_selected.csv', sep='\\n',index=False)"
   ]
  },
  {
   "cell_type": "code",
   "execution_count": null,
   "metadata": {},
   "outputs": [],
   "source": []
  }
 ],
 "metadata": {
  "kernelspec": {
   "display_name": "Python 3",
   "language": "python",
   "name": "python3"
  },
  "language_info": {
   "codemirror_mode": {
    "name": "ipython",
    "version": 3
   },
   "file_extension": ".py",
   "mimetype": "text/x-python",
   "name": "python",
   "nbconvert_exporter": "python",
   "pygments_lexer": "ipython3",
   "version": "3.7.7"
  }
 },
 "nbformat": 4,
 "nbformat_minor": 2
}
